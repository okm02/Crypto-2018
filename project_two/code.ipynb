{
 "cells": [
  {
   "cell_type": "code",
   "execution_count": 1,
   "metadata": {},
   "outputs": [],
   "source": [
    "from sage.all import *"
   ]
  },
  {
   "cell_type": "markdown",
   "metadata": {},
   "source": [
    "# Let's use the same primes"
   ]
  },
  {
   "cell_type": "markdown",
   "metadata": {},
   "source": [
    "Method : we have a guarantee that after some iterations that gcd of ri's is equal to one after when interacting with the oracle. We compute a linear combination's of ri's such that their gcd = 1 using extended euclidean algorithm.Finally we raise each message to it's corresponding linear combination coefficient and multiply all of them together to get the message."
   ]
  },
  {
   "cell_type": "code",
   "execution_count": 2,
   "metadata": {},
   "outputs": [],
   "source": [
    "N1 = 2083942285611508539086265595840010478015109036439363635280587182395374938322559822338668376791455665784726914688183444532432720065787986149494796802755789\n",
    "k1 = 10000000"
   ]
  },
  {
   "cell_type": "code",
   "execution_count": 6,
   "metadata": {},
   "outputs": [],
   "source": [
    "import socket\n",
    "\n",
    "def connect_server(server_name, port, message,exercise_num):\n",
    "    R,msgs = [],[]\n",
    "    while True :\n",
    "        server = (server_name, int(port)) #calling int is required when using Sage\n",
    "        s = socket.create_connection(server)\n",
    "        s.send(message + \"\\n\")\n",
    "        response=\"\"\n",
    "        while True: #data might come in several packets, need to wait for all of it\n",
    "            data = s.recv(1024)\n",
    "            if len(data) == 0:\n",
    "                break\n",
    "            if data[-1] == '\\n': \n",
    "                response += data[:-1]  \n",
    "                break\n",
    "            response += data\n",
    "        s.close()\n",
    "        if exercise_num == 1:\n",
    "            response = response.split()\n",
    "            (r, s) = (Integer(response[0]), Integer(response[1]))\n",
    "            R.append(r),msgs.append(s)\n",
    "            if gcd(R) == 1: # keep iterating until the gcd of these elements are equal to one\n",
    "                break\n",
    "        elif exercise_num == 4:\n",
    "            R.append(Integer(response))\n",
    "            break\n",
    "        else:\n",
    "            raise NotImplementedError('You don\\'t need the oracle for this exercise')\n",
    "            \n",
    "    return R,msgs"
   ]
  },
  {
   "cell_type": "code",
   "execution_count": 4,
   "metadata": {},
   "outputs": [],
   "source": [
    "sciper = 281141 \n",
    "R,msgs = connect_server(\"lasecpc28.epfl.ch\", int(5557), str(sciper),1)"
   ]
  },
  {
   "cell_type": "code",
   "execution_count": 5,
   "metadata": {},
   "outputs": [],
   "source": [
    "# to compute the linear combinations we compute extended euclid algorithm for  the first two numbers\n",
    "# and then for number_index > 2 run extended euclid on this number and the gcd of previous numbers and get the coefficients\n",
    "# multiply the coeffient with all previous coefficients\n",
    "multiples = []\n",
    "d,u,v = xgcd(R[0],R[1])\n",
    "multiples = multiples + [u,v]\n",
    "for i in range(2,len(R)):\n",
    "    d,u,v = xgcd(d,R[i])\n",
    "    for j in range(0,len(multiples)):\n",
    "        multiples[j] *= u\n",
    "    multiples.append(v)"
   ]
  },
  {
   "cell_type": "code",
   "execution_count": 6,
   "metadata": {},
   "outputs": [],
   "source": [
    "powered_msgs = []\n",
    "for i in range(0,len(msgs)):\n",
    "    power = power_mod(msgs[i],multiples[i],N1) # compute x^(r * u) mod N\n",
    "    powered_msgs.append(power)"
   ]
  },
  {
   "cell_type": "code",
   "execution_count": 7,
   "metadata": {},
   "outputs": [],
   "source": [
    "a = mod(1,N1) # extracted msg\n",
    "for i in range(len(powered_msgs)):\n",
    "    a = mod(a * (powered_msgs[i]),N1) # multiply all powers together to get the message"
   ]
  },
  {
   "cell_type": "code",
   "execution_count": 8,
   "metadata": {},
   "outputs": [
    {
     "data": {
      "text/plain": [
       "964428547818887150428295297514716956252811134547063672356929752891152989036750401547695146936543814106188665060062404896055045495815009802146011649735258"
      ]
     },
     "execution_count": 8,
     "metadata": {},
     "output_type": "execute_result"
    }
   ],
   "source": [
    "a"
   ]
  },
  {
   "cell_type": "markdown",
   "metadata": {},
   "source": [
    "# Elements of order 2"
   ]
  },
  {
   "cell_type": "markdown",
   "metadata": {},
   "source": [
    "to find elements of order 2 in Zn*. We compute x^2 modn = 1 mod n. <br>\n",
    "By using crt we break it into x^2 mod all factors. <br>\n",
    "Using crt we compute all elements y = +- a mod (a factor)"
   ]
  },
  {
   "cell_type": "code",
   "execution_count": 9,
   "metadata": {},
   "outputs": [],
   "source": [
    "p2=12490436598689293019793752498850223593851732009260629039975438903671328146869063182612769347335640257217682882606463941915694214642933253669651242233731493\n",
    "q2=2642114135812671148107535111615353486904341745399136732978421386826708109392096521387134896639485435398079840862371836234226625310585012674950578452958753\n",
    "r2=9099939049609086807281872311843106462045192786932332797977808812988238231804818845060172242545014348892888236169925374497726925735063361230882322807183287\n",
    "s2=10869552176137642414794948789200666476105262377026106603586002905760590166325944222115378404695199692307813462962202498427160195222812918227181532132988331\n",
    "n2=3264219305070411761717098486784697496575927919380732103339590174941686404677791121188725211613736383949568526009617392833745621411274511491395545285544441664088106155515882558398660399294677479275713971259792435776592750311402407091190452831912038051453215157058845989198673511319078377684555319426464616411715168600642618223004218307736114471406314856768548839984908075583774158781172524815361316468069382720465869729665164144887339975540246423425029023145329604150789324282282652584713580407201260295365164777652704663007142160772444785137830566921751449386087903380826836597619382095266216146395751468473545971313"
   ]
  },
  {
   "cell_type": "code",
   "execution_count": 10,
   "metadata": {},
   "outputs": [],
   "source": [
    "PMod  = mod(1,p2)\n",
    "PRoot = PMod.sqrt(all=True)\n",
    "QMod  = mod(1,q2)\n",
    "QRoot = QMod.sqrt(all=True)\n",
    "RMod  = mod(1,r2)\n",
    "RRoot = RMod.sqrt(all=True)\n",
    "SMod  = mod(1,s2)\n",
    "SRoot = SMod.sqrt(all=True)\n",
    "\n",
    "module = [Integer(p2),Integer(q2),Integer(r2),Integer(s2)]\n",
    "Root = []\n",
    "for p in PRoot:\n",
    "    for q in QRoot:\n",
    "        for r in RRoot:\n",
    "            for s in SRoot:\n",
    "                modlist = [Integer(p),Integer(q),Integer(r),Integer(s)]\n",
    "                r = CRT_list(modlist,module)\n",
    "                Root.append(r)"
   ]
  },
  {
   "cell_type": "code",
   "execution_count": 11,
   "metadata": {},
   "outputs": [
    {
     "data": {
      "text/plain": [
       "[1,\n",
       " 138580805084190773079229336565482202570141161433761828123405344128473460913288613437117537737387544586954925399101211351722356199081055319265122461042875564110851893566895591838587484221171787377807153008337955470062416768555315882123732694919189636464395844061789349048647919819025775149940042808053290150545073527978412790905774181236345122988780211888347407947606285415020826831211775769391861833573147628228492448516176319776607115750766948265765709184112023573478797135906663751038172334749154064280031651276078757144275424956478058139185132099348632484928320246555434268965510338128308482032456997359994794766,\n",
       " 492864460948395980644985654447150750846630383068499125401638039703412605912255229403131381298611037408746953487874733187629113867322359233744810119921997757051909126098835026042093904728467597561891146274407042413426840814570665991985124146704686432794233913217349391891069937633263057216847960722173750093614813354730042995098978604921856928088943193910415739975711200519847953902876383802678095505216212223621538271411829025545183879321435579792396676623103396587759943888875112921520131061515483242500285858443740280659018980654051290985132777534310213432681198078117083749625438189255854666457791320282091173318,\n",
       " 672944080818262483338800989403308610683432198390555917779609361354932560296505320516668057061503073464285958301217027816596175558680405048858120818456177354003877228702739867541926212814321550412529098663055876901990850050273091209735228982936112274784401073363011722675904030295946998112841144342363554446508450952058486671997824067078157469150377792879851304400398364185211108639405921075204808325147380379393888901925109257977052956998179084399363429696367792346069277407272655722966781280802232468745048149808429427295039989198775871032040735666173693338398027257957867125081711328021985928377790914035631430449,\n",
       " 811524885902453256418030325968790813253573359824317745903014705483406021209793933953785594798890618051240883700318239168318531757761460368123243279499052918114729122269635459380513697035493337790336251671393832372053266818828407091858961677855301911248796917424801071724551950114972773262781187150416844597053524480036899462903598248314502592139158004768198712348004649600231935470617696844596670158720528007622381350441285577753660072748946032665129138880479815919548074543179319474004953615551386533025079801084508184439315414155253929171225867765522325823326347504513301394047221666150294410410247911395626225214,\n",
       " 1165808541766658463983786643850459361530062581459055043181247401058345166208760549919799438360114110873032911789091761004225289426002764282602930938378175111055786354801574893584020117542789147974420244937462919315417690864843757201720353129640798707578634986580361114566973967929210055329689105064537304540123264306788529667096802672000014397239320986790267044376109564705059062542282304877882903830363592603015427173336938283522236836319614664191760106319471188933829221296147768644486912342317715711245334008252169707954058969852827162017173513200483906771079225336074950874707149517277840594835582234317722603766,\n",
       " 1286885877401300041315281516965447321792291978097359314255328068399935217259236637315140178454731655025294730520207392661201800227510286840669371067667213634917590678444672205434126584716394993510957474650935684089121792627730242797611138024415937432625783253053683802907147593274895549092085027211510467274538379813817189093003817387421597482027835865210083083260793861278483160768272523092881742478985262109828061205886940283611443066471685726568139777945378599297412028442955564466221714449332158051094750968316026770613767776764363693949431185955745216791682330540238584328865010911838081141149921322760197142332,\n",
       " 1304389346850849237063015980415941564100203742892816871304652745186818627122049163356916976097501655459987837188192972355947645625083819601868053399421050675166638248368470485422607601763960935352227397945800874785480107633399073083844085824559988344043030830642150463615621887748235830479629147872590594690668337834766942458002576853236359520228101198678614452323715850120079889373494080647274765663936740231243919621853114603298843952070381612457525815503583212507308018432054432395525084677066869775525365659528248465098334394809305220156358645299832539256007545582630385143672659855406149076868039231677717398533,\n",
       " 1959829958219562524654082506368755932475724176487915232034937429754867777555741957831808235516234728489580688821424420477797975786190691889527491886123390988921467907147412072976052797530716543923486573313991560991112642678003334007346367007352049707410184326416695525583051623570842547204926171553874021721046830765875675765001641454499754951178213658089934387661192225463694269407678444168086550804132642489221950107812049541588496023469864810967503207641746391643481305850228220189188495730134390519839799118124456197908807765963139564981471921621918910130080357798196451453946722239860067069527712236795828572780,\n",
       " 1977333427669111720401816969819250174783635941283372789084262106541751187418554483873585033159004728924273795489410000172543821183764224650726174217877228029170515477071210352964533814578282485764756496608856751687470957683672164293579314807496100618827431904005162186291525918044182828592470292214954149137176788786825429130000400920314516989378478991558465756724114214305290998012900001722479573989084120610637808523778223861275896909068560696856889245199951004853377295839327088118491865957869102244270413809336677892393374384008081091188399380966006232594405572840588252268754371183428135005245830145713348828981,\n",
       " 2098410763303753297733311842934238135045865337921677060158342773883341238469030571268925773253622273076535614220525631829520331985271747208792614347166266553032319800714307664814640281751888331301293726322329516461175059446558649889470099702271239343874580170478484874631699543389868322354866214361927311871591904293854088555907415635736100074166993869978281795608798510878715096238890219937478412637705790117450442556328225861365103139220631759233268916825858415216960102986134883940226668064883544584119830769400534955053083190919617623120657053721267542615008678044751885722912232577988375551560169234155823367547,\n",
       " 2452694419167958505299068160815906683322354559556414357436575469458280383467997187234939616814845765898327642309299153665427089653513051123272302006045388745973377033246247099018146702259184141485377719588398603404539483492573999999331491154056736140204418239634044917474121561204105604421774132276047771814661644120605718760100620059421611879267156852000350127636903425983542223310554827970764646309348854712843488379223878567133679902791300390759899884264849788231241249739103333110708626791649873762340084976568196478567826746617190855966604699156229123562761555876313535203572160429115921735985503557077919746099,\n",
       " 2591275224252149278378297497381388885892495720990176185559980813586753844381285800672057154552233310485282567708400365017149445852594106442537424467088264310084228926813142690856734186480355928863184872596736558874601900261129315881455223848975925776668814083695834266522769481023131379571714175084101061965206717648584131551006394240657957002255937063888697535584509711398563050141766603740156508142922002341071980827740054886910287018542067339025665593448961811804720046875009996861746799126399027826620116627844275235712102171573668914105789831255577756047689876122868969472537670767244230218017960554437914540864,\n",
       " 2771354844122015781072112832337546745729297536312232977937952135238273798765535891785593830315125346540821572521742659646116507543952152257650735165622443907036197029417047532356566494566209881713822824985385393363165909496831741099205328685207351618658981243841496597307603573685815320467707358704290866318100355245912575227905239702814257543317371662858133100009196875063926204878296141012683220962853170496844331458253335119342156096218810843632632346522226207563029380393407539663193449345685777052864878919208964382348123180118393494152697789387441235953406705302709752847993943906010361479937960148191454797995,\n",
       " 3125638499986220988637869150219215294005786757946970275216184830813212943764502507751607673876348839362613600610516181482023265212193456172130422824501566099977254261948986966560072915073505691897906818251454480306530333542847091209066720136992848414988819312997056640150025591500052602534615276618411326261170095072664205432098444126499769348417534644880201432037301790168753331949960749045969454634496235092237377281148987825110732859789479475159263313961217580577310527146375988833675408072452106231085133126376625905862866735815966726998645434822402816901159583134271402328653871757137907664363294471113551176547,\n",
       " 3264219305070411761717098486784697496575927919380732103339590174941686404677791121188725211613736383949568526009617392833745621411274511491395545285544441664088106155515882558398660399294677479275713971259792435776592750311402407091190452831912038051453215157058845989198673511319078377684555319426464616411715168600642618223004218307736114471406314856768548839984908075583774158781172524815361316468069382720465869729665164144887339975540246423425029023145329604150789324282282652584713580407201260295365164777652704663007142160772444785137830566921751449386087903380826836597619382095266216146395751468473545971312]"
      ]
     },
     "execution_count": 11,
     "metadata": {},
     "output_type": "execute_result"
    }
   ],
   "source": [
    "sorted(Root)"
   ]
  },
  {
   "cell_type": "markdown",
   "metadata": {},
   "source": [
    "# RSA with subgroup "
   ]
  },
  {
   "cell_type": "markdown",
   "metadata": {},
   "source": [
    "method : For this part we know that all cipher texts have the form of g^(e * encoding(ci)) mod N <br>\n",
    "we know that space must be included in the message <br>\n",
    "We raise each cipher element in the array to the power 27(maximum encoding) and iterate downwards , whenever this power belongs to the cipher text then this means that we got the encoding of the space element. <br>\n",
    "then we raise the encoding of the space to the range of powers from 2 untill 27 and create a dictionary mapping every cipher text to it's respective letter in the alphabet <br>"
   ]
  },
  {
   "cell_type": "code",
   "execution_count": 12,
   "metadata": {},
   "outputs": [],
   "source": [
    "# read rsa modulus\n",
    "n3 = read_data('./Asst2/281141/281141-parameters.txt',str) \n",
    "n3 = Integer(n3[11].split('=')[1].strip())"
   ]
  },
  {
   "cell_type": "code",
   "execution_count": 13,
   "metadata": {},
   "outputs": [],
   "source": [
    "# read cipher texts\n",
    "c3 = read_data('./Asst2/281141/281141-parameters.txt',str) \n",
    "c3 = c3[12].split('=')[1:][0]\n",
    "c3 = c3.replace('[','').replace(']','').split(',')"
   ]
  },
  {
   "cell_type": "code",
   "execution_count": 14,
   "metadata": {},
   "outputs": [],
   "source": [
    "c3 = [Integer(x) for x in c3]"
   ]
  },
  {
   "cell_type": "code",
   "execution_count": 15,
   "metadata": {},
   "outputs": [],
   "source": [
    "letters = range(1,28) # range of letter encoding"
   ]
  },
  {
   "cell_type": "code",
   "execution_count": 16,
   "metadata": {},
   "outputs": [],
   "source": [
    "space_encoding = None\n",
    "for encoding in reversed(letters):\n",
    "    for cipher_text in c3:\n",
    "        check_space = power_mod(cipher_text,encoding,n3) # compute g^ e * maximum encoding\n",
    "        if check_space in c3: # check if this encoding is inside the cipher text s\n",
    "            space_encoding = cipher_text # if true this is the space encoding\n",
    "            \n",
    "    if space_encoding is not None:\n",
    "        break"
   ]
  },
  {
   "cell_type": "code",
   "execution_count": 17,
   "metadata": {},
   "outputs": [],
   "source": [
    "encodings = dict({space_encoding:1})\n",
    "for i in letters:\n",
    "    if i > 1:\n",
    "        checker = power_mod(space_encoding,i,n3) # raise each power to the encoding of a letter\n",
    "        for cipher_text in c3:\n",
    "            if cipher_text == checker: # check if it is in the cipher text\n",
    "                encodings[cipher_text] = i # add this mapping to the dictionary\n",
    "                break"
   ]
  },
  {
   "cell_type": "code",
   "execution_count": 18,
   "metadata": {},
   "outputs": [
    {
     "name": "stdout",
     "output_type": "stream",
     "text": [
      "i do not know how should i do with this sentence it must contain a random word like exempting not to make all answers same for all students\n"
     ]
    }
   ],
   "source": [
    "# get plain text by replacing every cipher text encoding in the dictionary with the respective asccii letter\n",
    "replace = [] \n",
    "result = \"\"\n",
    "for cipher_text in c3:\n",
    "    int_encoding = encodings[cipher_text]\n",
    "    if int_encoding == 1:\n",
    "        result += ' '\n",
    "    else:\n",
    "        result += str(unichr(95 + int_encoding))\n",
    "print(result)"
   ]
  },
  {
   "cell_type": "markdown",
   "metadata": {},
   "source": [
    "# He who gets the orders knows the factors"
   ]
  },
  {
   "cell_type": "markdown",
   "metadata": {},
   "source": [
    "Method : for this part we first compute the epxonent of the group ZN^2 and then from the exponent we compute the factor of N^2. Given this factor we compute the gcd of this factor and N , the extracted value is one of N's two factors and thus we extract p and q and output the larger one."
   ]
  },
  {
   "cell_type": "code",
   "execution_count": 7,
   "metadata": {},
   "outputs": [],
   "source": [
    "# read N the group modulus\n",
    "c4 = read_data('./Asst2/281141/281141-parameters.txt',str) \n",
    "N4 = int(c4[14].split('=')[1].strip())"
   ]
  },
  {
   "cell_type": "code",
   "execution_count": 8,
   "metadata": {},
   "outputs": [],
   "source": [
    "n_square = N4**2 # square N in order to interact with oracle"
   ]
  },
  {
   "cell_type": "code",
   "execution_count": 9,
   "metadata": {},
   "outputs": [],
   "source": [
    "G = Zmod(n_square) # create group ZN^2"
   ]
  },
  {
   "cell_type": "code",
   "execution_count": 10,
   "metadata": {},
   "outputs": [],
   "source": [
    "def compute_exponent(group,max_iters=15):\n",
    "    \n",
    "    \"\"\"\n",
    "    compute exponent of group given order of elements for that group\n",
    "    \n",
    "    :param group : the group of Z n squared\n",
    "    :param max_iters : the number of iterations necessary that lambda is constant\n",
    "    \"\"\"\n",
    "    \n",
    "    sciper = 281141\n",
    "    expo_lambda = 1\n",
    "    index = 0\n",
    "    test = 0\n",
    "    previous_lambdas = []\n",
    "    while test<max_iters:\n",
    "        x = group.random_element() # generate a random element in the group\n",
    "        msg = str(sciper) + ' ' + str(x)\n",
    "        u = connect_server(\"lasecpc28.epfl.ch\", int(5556),msg,4)[0][0] # query the oracle to get order of x in ZN^2\n",
    "        expo_lambda = lcm(expo_lambda,u) # compute lcm of order of element x and current group exponent\n",
    "        print(test)\n",
    "        if (len(previous_lambdas) > 0) and (previous_lambdas[index - 1] == expo_lambda): # track that lambda is the same\n",
    "            test+=1\n",
    "        else:\n",
    "            test=0\n",
    "        previous_lambdas.append(expo_lambda) # list to track changing of lambda\n",
    "        index+=1\n",
    "\n",
    "    return previous_lambdas[-1]"
   ]
  },
  {
   "cell_type": "code",
   "execution_count": 11,
   "metadata": {},
   "outputs": [
    {
     "name": "stdout",
     "output_type": "stream",
     "text": [
      "0\n",
      "0\n",
      "0\n",
      "1\n",
      "0\n",
      "1\n",
      "2\n",
      "3\n",
      "4\n",
      "5\n",
      "6\n",
      "7\n",
      "8\n",
      "9\n",
      "10\n",
      "11\n",
      "12\n",
      "13\n",
      "14\n"
     ]
    }
   ],
   "source": [
    "exponent = compute_exponent(G)"
   ]
  },
  {
   "cell_type": "code",
   "execution_count": 12,
   "metadata": {},
   "outputs": [],
   "source": [
    "def compute_factors(exponent,group):\n",
    "    \n",
    "    \"\"\"\n",
    "    computes the factor of a number given the exponent of its group\n",
    "    \n",
    "    :param exponent : the exponent of the group\n",
    "    :param group : group ZN^2\n",
    "    \n",
    "    \"\"\"\n",
    "    \n",
    "    s = 0\n",
    "    t = exponent\n",
    "    #  first step we try to write exponent as 2^s * t where t is odd\n",
    "    negative_one = mod(-1,n_square)\n",
    "    while not is_odd(t): # as t is not odd keep factoring the exponent by 2\n",
    "        t = t/2\n",
    "        s+=1\n",
    "    \n",
    "    t = Integer(t)\n",
    "    \n",
    "    while True:\n",
    "        x = group.random_element() # generate a random element belonging to the group\n",
    "        x = power_mod(x,t,n_square) # compute x^t mod N^2\n",
    "        y = None\n",
    "        # the aim of this while loop is to keep squaring x until it becomes = 1\n",
    "        while x != 1:\n",
    "            y = x\n",
    "            x = power_mod(x,2,n_square) # square x\n",
    "        if (y != negative_one) or (y!=None): # found possible group facotrization\n",
    "            break\n",
    "    \n",
    "    return gcd(y-1,n_square)"
   ]
  },
  {
   "cell_type": "code",
   "execution_count": 13,
   "metadata": {},
   "outputs": [],
   "source": [
    "factor_of_n_square = compute_factors(exponent,G)"
   ]
  },
  {
   "cell_type": "code",
   "execution_count": 14,
   "metadata": {},
   "outputs": [],
   "source": [
    "# after computing the factor of N^2 we need to get the factors of N\n",
    "# we do this by computing the gcd of N and the factor of N^2 = p^2,q^2\n",
    "# this gets us one of the two factors of N\n",
    "pq = gcd(N4,factor_of_n_square) "
   ]
  },
  {
   "cell_type": "code",
   "execution_count": 16,
   "metadata": {},
   "outputs": [
    {
     "name": "stdout",
     "output_type": "stream",
     "text": [
      "This implies that the factor of N and the factor of N^2 is either p or q\n"
     ]
    }
   ],
   "source": [
    "if pq == N4:\n",
    "    print(\"The number and the factor are equal\")\n",
    "else:\n",
    "    print('This implies that the factor of N and the factor of N^2 is either p or q')"
   ]
  },
  {
   "cell_type": "code",
   "execution_count": 17,
   "metadata": {},
   "outputs": [],
   "source": [
    "# the other factor is N divided by the first factor\n",
    "other_factor = N4/pq"
   ]
  },
  {
   "cell_type": "code",
   "execution_count": 18,
   "metadata": {},
   "outputs": [],
   "source": [
    "other_factor = Integer(other_factor)"
   ]
  },
  {
   "cell_type": "code",
   "execution_count": 19,
   "metadata": {},
   "outputs": [
    {
     "name": "stdout",
     "output_type": "stream",
     "text": [
      "Final result = 5123378142938000262688135011468303210515283510676652478427815310822023309782608229300669958883144822713262543221061347870760108944671914114291648097249851474215052894793689792542336442402793799331494335379286027076616774641978295952395786802936898597651053367112668554160521267056726429199965518908560982639\n"
     ]
    }
   ],
   "source": [
    "if pq > other_factor:\n",
    "    print('Final result = {}'.format(pq))\n",
    "else:\n",
    "    print('Final result = {}'.format(other_factor))"
   ]
  },
  {
   "cell_type": "markdown",
   "metadata": {},
   "source": [
    "# Diffie-Hellman with a weird group"
   ]
  },
  {
   "cell_type": "code",
   "execution_count": 31,
   "metadata": {},
   "outputs": [],
   "source": [
    "p5=13154619548672550133712042308539974381709838061251818025210600689125397035760388873249119396788856436034437319159278855793801493143935417084173567495463313\n",
    "a5=9685474810201602558805724804810549242878718744017144654592998314356661393964437452981013865899226536317607226741948526345300187814509497540390353891752706\n",
    "u5=584387100862925280952847009177865702031239216921045726765626541175299883520743583629008937861143130229966874329221212518007128814136599242433085098178665\n",
    "X5=(5156291412594413357456314414998809994710271055170405914913890259077436660133114461906973179337469945302145268246089375739973905081009187368057115813478201, 7216258007008406105981562760746197370726058202661920201399615206908133290763291893650802274928555102731849882636691962576048701747713398237506396439404987)\n",
    "Y5=(2668794774140752177761604918204396578770762782330123601030627484145234646573913949366635321102627086376590796503784422904981683817155027717506569577184346, 12257683230919185824552769103596922671236749068533075118147634114416205605048004554370310771657192678173914193654210508342628204230831301078271501301496998)"
   ]
  },
  {
   "cell_type": "code",
   "execution_count": 32,
   "metadata": {},
   "outputs": [],
   "source": [
    "natural_elements = (1,0) # the identity element of G is the identity of Zp* and identity of Zp"
   ]
  },
  {
   "cell_type": "code",
   "execution_count": 33,
   "metadata": {},
   "outputs": [],
   "source": [
    "# the first pair of the inverse is just u5 inverted (inverse in Zp*) and is equal to one when multiplied with u5\n",
    "a_inverse = inverse_mod(a5,p5) \n",
    "# the second pair should statisfy the equation :  a_inverse * u + a * p =0\n",
    "# thus the inverse is (a_inverse)^2 * u \n",
    "inverse_pair = (a_inverse,mod(-power_mod(a_inverse,2,p5) * u5,p5))"
   ]
  },
  {
   "cell_type": "code",
   "execution_count": 34,
   "metadata": {},
   "outputs": [
    {
     "data": {
      "text/plain": [
       "(9279575166902746037208924802273752618962616775870355155486716724413149939191423996532108604091899138026775157949103892162281614320600769840929170481979800,\n",
       " 3833615378331589435047235712691739785854761935656702060206453921738491729803010621740112578854527953117919556791361099462949717765281219386522253667849852)"
      ]
     },
     "execution_count": 34,
     "metadata": {},
     "output_type": "execute_result"
    }
   ],
   "source": [
    "inverse_pair"
   ]
  },
  {
   "cell_type": "markdown",
   "metadata": {},
   "source": [
    "For part c after computing some powers of g, we realize that the following pattern: <br>\n",
    "g^n = (2^n,2^(n-1) * n * sciper) <br>\n",
    "Thus we can extract the secret keys by multiplying the second term of the public keys with the inverse of the first term and by 2, then divide by the sciper."
   ]
  },
  {
   "cell_type": "code",
   "execution_count": 35,
   "metadata": {},
   "outputs": [],
   "source": [
    "sciper = 281141\n",
    "inverse_public_x = inverse_mod(X5[0],p5)\n",
    "secret_key_x = Integer(mod(X5[1] * inverse_public_x * 2,p5))"
   ]
  },
  {
   "cell_type": "code",
   "execution_count": 36,
   "metadata": {},
   "outputs": [],
   "source": [
    "inverse_public_y = inverse_mod(Y5[0],p5)\n",
    "secret_key_y = Integer(mod(Y5[1] * inverse_public_y * 2,p5))"
   ]
  },
  {
   "cell_type": "code",
   "execution_count": 37,
   "metadata": {},
   "outputs": [],
   "source": [
    "# to extract the shared key just multiply secret keys and feed them into the formula\n",
    "shared_keys = secret_key_x * secret_key_y\n",
    "shared_secret_key = (power_mod(2,shared_keys,p5),mod(sciper * shared_keys * power_mod(2,shared_keys-1,p5),p5))"
   ]
  },
  {
   "cell_type": "code",
   "execution_count": 38,
   "metadata": {},
   "outputs": [
    {
     "data": {
      "text/plain": [
       "(5716551393532187100322147027301104131991200394114993203253775687798932419794055735140442303713767719523252007233242889967906280493880346365489220659657633L,\n",
       " 11382117028100858822009444178533386666330554946493604458195123063966545047380850645880396493147064706070011641698877832773847224687851025328460816729601271)"
      ]
     },
     "execution_count": 38,
     "metadata": {},
     "output_type": "execute_result"
    }
   ],
   "source": [
    "shared_secret_key"
   ]
  },
  {
   "cell_type": "code",
   "execution_count": null,
   "metadata": {},
   "outputs": [],
   "source": []
  },
  {
   "cell_type": "code",
   "execution_count": null,
   "metadata": {},
   "outputs": [],
   "source": []
  }
 ],
 "metadata": {
  "kernelspec": {
   "display_name": "Python 2",
   "language": "python",
   "name": "python2"
  },
  "language_info": {
   "codemirror_mode": {
    "name": "ipython",
    "version": 2
   },
   "file_extension": ".py",
   "mimetype": "text/x-python",
   "name": "python",
   "nbconvert_exporter": "python",
   "pygments_lexer": "ipython2",
   "version": "2.7.15"
  }
 },
 "nbformat": 4,
 "nbformat_minor": 2
}
