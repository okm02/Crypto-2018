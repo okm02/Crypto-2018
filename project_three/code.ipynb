{
 "cells": [
  {
   "cell_type": "code",
   "execution_count": 1,
   "metadata": {},
   "outputs": [],
   "source": [
    "from sage.all import *\n",
    "import base64\n",
    "import binascii\n",
    "import struct\n",
    "import hashlib\n",
    "from sage.crypto import util\n",
    "from itertools import combinations\n",
    "import numpy\n",
    "import struct\n",
    "import socket"
   ]
  },
  {
   "cell_type": "markdown",
   "metadata": {},
   "source": [
    "# Hashed ELGAMAL"
   ]
  },
  {
   "cell_type": "code",
   "execution_count": 2,
   "metadata": {},
   "outputs": [],
   "source": [
    "Q1_good = ('Do8EMrud7y7ryo3mFVupDgIdkzfQOsXm6nVNOGcu1rawrmUAIWVC4l9oUjpc8H58', 'Y2FydHdoZWVsZWQgcGhpbG9zb3BoaWNhbGx5IGVhZ2VybHkgYXBwcm94aW1hdGluZyBkZW1vZ3JhcGhlciBtZXRhYm9saXNtcyBleGVjdXRvcnMgYmlvY2hlbWlzdHMgZXBpdG9taXplcyBleHRpcnBhdGlvbiBvcnRob3BhZWRpc3RzIGRlcGFydG1lbnRhbGl6ZSBqZXNzYW1pbmUgYmxhc3BoZW1pbmcgcmVjb25uYWlzc2FuY2VzIGZhbHNldHRvcyBjYXJlbGVzc25lc3MgZW5jbG9zdXJlIGlzIGV1cGhlbWlzdGljYWxseS4=', '2AYF23lYmI6GUWd3n7cUJW+uKiqGKUcXuuNa0yiZbt2yg1sZFgGEZFFOji6UUUvk64T/UcTFelefqVSeUsY5rQIJqs7/O5T57xddxFzDIxlrljG5UQuy2r1kND0ygL9oeLEG5HFWvAwqKepReEwdMzlzWmgDwx/23sYlxi9Rhh0ARWa1hhw+n4zWwAUkvXe0x1HedjTDUEHxtLgSqK5Rqfbn5GfQBYL5g+P0Uw8eQqwsC612efF70AJzGSDWvFABC2Gov9sBWL7HrUjDGt9EEWhOgtHc9MjofKuJ29J0asjpWIYv7ldPTEW2ASGVyL5cvCbCsWWE6HJ63z+o1M4i1q+ShwTAX3FRncD6b4lO7pxRlgQjg6l+9+SRaFgD4bkP')\n",
    "Q1_bad = ('CBIjW/ObQkQKUL11nOETtbCnSoLqCNoQIXu69PdmVnxQxMfGMAfBhLQZtQUPh855', 'bWlzdW5kZXJzdGFuZGluZ3MgZWVyaWVzdCBiZWF1dGVvdXNseSB0cmFuc3Zlc3Rpc20gcmVtaW5pc2NlbmNlcyBjb25mcm9udGF0aW9uIHVuY2VyZW1vbmlvdXNseSBjb21tYW5kbWVudHMgcHJvcGhldGVzc2VzIGFzc2ltaWxhdGVzIGluY2VuZGlhcmllcyBhY2FudGh1c2VzIGhlbWF0b2xvZ2lzdCBtZWRhbGxpb25zIGFjcXVpZXNjZXMgcmVwb3NzZXNzZXMgYm9tYmFyZG1lbnRzIG92ZXJzdGF0ZW1lbnRzIGFiYmVzc2VzIHBhcmVudGhldGljYWxseS4=', 'X1eiBJgpCnyGsmO4qYarnP4xBr9lBhpDQaN4hKRGcgdz1vbPy0P3YQTJRqsdVpGqZ0kqzcfWPsVt9srK3YIBtqIzDYQnLy2f3JvYF6ImIGuH4+M/d5xN9hRE+fWCNDBdBna/di4Tz3zr9DEfU5cIxRnT3lj3JkJVzEvhyhjHQGnZ701Xe0UHQwhy5CoTd6l2Xy4ywInrLcvdhoOv+BGaCWn4YgOS2Ch7nqgkLkX3ylfQ1lH5G6G1YCD/fnzxSsuvMUxRKBRDF2JCikFB1nsSxRqFBxQVqVP4UJs94aZimY2SQnnQvXB0uCih45o4NsZM8bgkEtIqX7PpKaGPbNpPWwYcKg28beq4fgGhR5qBw8zkUseFcCurphgDukPvqJhnPnz+cf2wBBFdHdHqQfe5P2z/')\n",
    "Q1_list = [('Urbu1qU3iYnI96MF+vqCbkM3uH1AjVbhuCxMaNM3xQ0IpeGFJR7J72ttlXIgcFZZ', 'YWxpbWVudGFyeSBtYXRoZW1hdGljaWFucyB0aHVuZGVyYm9sdHMgYXBwbGljYXRvcnMgbWlzZGVtZWFub3IgYWJydXB0ZXN0IGJlYWNoY29tYmVyIGNvbWZvcnRhYmx5IG1pc2NhbGN1bGF0aW5nIHVudGltZWxpZXIgb3B0b21ldHJ5IG15c3RlcmlvdXNseSBkaWZmdXNlbmVzcyBjaGFyYWN0ZXJpc3RpY2FsbHkgZ2VudGxld29tZW4gYWJzdHJhY3RuZXNzZXMgc3VwZXJpbnRlbmRlbnRzIGFjYW50aGkgcG9ydG1hbnRlYXVzIHRyYW5zZ3Jlc3Nlcy4=', 'pxgidFaV8URd05/toZrt/Z40dGXfRE/PSvlT6y/RFtyobnbymLImTiukYwQYufQWIxvPOZ82/VvUO7CEzcvnwj8M8zJIRrinmg/ARkLZYnaOlvuuCyZdNhGpy+oCYk58CTytTiCZLHOf8XE8qgQvRi8X4vO4FmDYvxxgXYEzTK4p7QWNEsQEt8tdK0S0SrsuFk77ZVWmeQ7K7Mmr4R3nbjibzwrBzKlFu8A/i3KE/SXMPF6oU07qfdi8ptJIbj15/QP2aM86EcCVwhbaGDdtuWpia6ZYx2eEHFyvrTvkLWh3tERHj2bs4IMNXlXUdLn2Th6xTXkGTsNbinXciew2kZJV2hL7LMaAy03KHL9k5jSU3xLE9ZgE3EUdf8bSMU9EV6P7FVqCxMdGgvgySo3/'), ('HWyAGLyKK1A1MW6wXfnNXertmv5anshScLIIeeRjiQG4gVgNPfpCNICNHz2qz71P', 'aGFsbHVjaW5vZ2VuaWMgZW50cnVzdGVkIGNhc3NldHRlcyBhcHByb3hpbWF0ZWx5IHN1YnNjcmlwdGlvbiB0ZXJtaW5hdG9ycyBjb3JyZWxhdGl2ZXMgaW5kZXBlbmRlbnRseSBhc3NlbWJsZXJzIG1lc21lcml6aW5nIHNldmVudGVlbnRocyBlZmZlbWluYXRlIGJsYWNrc21pdGhzIG1hZ25ldG9zcGhlcmUgaHlwZXJzZW5zaXRpdml0aWVzIGJpYmxpb2dyYXBoaWVzIHVuZGlzY292ZXJlZCBleHBhbnNpb25pc3QgYmVhY2hoZWFkcyBjb21taXNzYXJpYXQu', 'upol/OGg7hM4JDho41cx3zcKVA4oZzsqky1cmyacGzTeS8Hkdyz8dIoNJ6oKTmYmOjIPqo7FHRQT5pB1n2xn1WV0ThCmSGNMUy+PxQ6Hg96Gk0EGqmT/5KGQvxEKwtnsXlloCkETqliio42zSRcwzOIWN/bnn/eRLVBrK1oBLgI18ZpU9keDEdn+ofZfiziqf0aPZyMiAb3Yr51XFTEoT+V352diGrJjkG13rpOXsfvIhWM2PIUWTXRxodPmZ7A4I4v1D19n7rgjAU+S4lMFmXqOKO5redmYlndBHdU4/Ry84Xgc7c3EHD5TGcV0xIgdmG/zwZXAbc/MMG9f2rxuOULPSJjsQMseoruZUSAPtP+nZti8qkqVt8S5Pdawo/3ZBhS9kwmfWvuwS6PbWGOVDJcU/w=='), ('ZfeuPCOxzTMS4S8+LAMUftcDcCk+AVXVZSKEbFaRh7UeoDGa1ibY+fVdfQsljV6u', 'ZXBpdG9taXppbmcgZGVwYXJ0bWVudGFsIGVxdWlsYXRlcmFscyBlYXJwaG9uZSBndWFyYW50ZWVpbmcgYXNzZW1ibGluZyB0cmFuc2xpdGVyYXRlZCBvdmVydGhyb3dpbmcgaW1wZXJzb25hdGluZyBzbm9ya2VsbGluZyBhbnRlbG9wZSBmYWxzaWZpY2F0aW9uIG5hdGlvbmFsaXphdGlvbnMgdGhlb3JpemVkIGJsb2NrYnVzdGVyIGVoIHNlbWl0cmFpbGVycyBhY2N1c2luZyBlZ2diZWF0ZXJzIGJvdWlsbGFiYWlzc2VzLg==', 'zY6/H/kBj393DOHW29JAFLTXrxycWe4WmstfnOW6I8UdKL3Q9yQTDjfMP928jvuQ8mVUw/ISUPhDkeyiJH7mOND0WzVVmzsR8hytUetFIBhKLvCaC9cMGguhFqI/O9Gyr80QKcd+JPpmFcxQM5GqDpgBJuoMyq9xHaV0fhI8U8HBjmAEOiwbjq8L5igb8yU04rgTVsLn7+NUdhGRcWcSqjAXoL34DPbZnkukduuXCrjIqK48rcKfIAaPSAHUEEsTZux/3hkf0dnCDcMTR2DRcAG3vl4GSmXrIWebPSWsgpk6JnWWOIVdPygmwA4yvCKboquqaRs7G2O7+5MLTMvoJ7iPH+rXNApuTsXnUp275Dt2Goi1skPhNsubIjkvbP8='), ('EghUhKdwSfrO96b8okI1Wb5xe+u7ZsNQW777IoclDWv2fFNjxriO6W82ZeCb0W98', 'ZW5jaGFudG1lbnRzIGV4dGVudWF0aW9uIHBlcnBsZXhpdGllcyBjb250YW1pbmF0aW9uIHJhcHByb2NoZW1lbnRzIGFjY3JlZGl0aW5nIHVuaW50ZXJlc3RlZCBwYXJlbnRoZXNpemluZyBkaXNhc3NvY2lhdGUgYWRtaW5pc3RlciBkaXNjb21maXR1cmUgaGFuZHdyaXR0ZW4gcXVhcnRlcm1hc3RlcnMgYmVhdXRlb3VzbHkgY291bnRlcnNpbmtpbmcgZXh0aXJwYXRlcyBvdmVyYW54aW91cyBhZmZpbGlhdGlvbnMgaW5mcmFzdHJ1Y3R1cmVzIGV4cGVjdG9yYW50Lg==', '89tvLTKcwCj+DNZRlMoiiQ68wUkLLoXsEr3Kv82SqUXYFWZlI3Z3H+KoBp75aOTpSFloWtDo/xu86l/i67atKcsmdbU60UZQXwXdCB6o3GClUa3AgN1Ylj6x5r36teFmpotsdmdSOwIhCsH+2eTD9/UWMB1wfgHEYwcZfXigypfu2yG+VNZyil4Okzxn+eDt00rb6IhFaSeNLowfuBrf/j3FtLi/Tuf+BvCG/YZEwh+bRlrB8WDaDWRWTGGCTaMkMhvAlogmlA+XRgleKa+UvYJWKe6LwgZD6rmupAjT1541rxpJ/bMIIN0AatDNXi/aLKY685o73Pezw314C42nPSh5zHsicECyBUx+hodWZwnw/3qHyM7333R8G1+FH/OnTOhc3hbtfO4XV9IchlQFN5401BBDXA8='), ('Iky5P28bVFSMYpVPD/yvTmViXoY5wn0QFqSFWJ/wYNPcwFTcKFIzd4Cn1VE4Iobh', 'c2VkdWN0aXZlbHkgc2xhdWdodGVyaG91c2VzIGFjdGlvbiBwc3ljaG9sb2dpY2FsbHkgZGlzc2ltdWxhdGluZyBkaXNzZW1ibGVkIGNvc21vbG9naXN0cyB1bmNoYXJhY3RlcmlzdGljYWxseSBzdHJlYW1saW5pbmcgZWxlY3Ryb2VuY2VwaGFsb2dyYW1zIGFubm90YXRpb24gY29udGFtaW5hdGlvbiBzcHJlYWRzaGVldHMgc3RyaXB0ZWFzZXMgZGVjZWl0ZnVsbmVzcyBjaGxvcm9mbHVvcm9jYXJib25zIG92ZXJ0dXJuaW5nIGJhbmRvbGVlcnMgc2hvcnRjaGFuZ2luZyBjb3VudGVuYW5jaW5nLg==', 'WiZye3T7+W+Occ531XXmukmCMqQqGqVQUBvGvLf1p5nStoWoNAz1z3xwOFadWHCWqIU4q06A0+AoE0UxozZvvVK2p88+rY/Mgr1F4rrVQWNhwJx567AwHw9rlmox8r7KL+tpSTYpYVA8Ok7hWRA31H5zVFMJrf0jBoSTzGzSRzQ++hT/EPpGB8i4jPAVxM3z3aTrqe98jHzuQt8dizZe918z9I5I01VyWcYGjta7j+ggW3Y0bGW84efv31GMvCN5beJMt83PHE57Yx6Z+pRYHPDeeyGWeYS3sYXUlaSviWIe64FuDh9EER1EFa/xErl/NUvpcJBk2PcvO2iZzRTqixPcvHkT4y3sQuCP9VbBM60KAYSklRZHeVmcuQ8eQ0kJZc90z+TPHItXfZQy+MI9wdaQ56adpqX3Eajhp6O24XkmoeFAQfHpYv8=')]\n",
    "Q1_pk = 'cpdqVVakZhL//AD3n6fWvEaU1PMnsBbMjGtxLKPPAkMjQThiTZyebtccm7qR84ofDw=='\n",
    "Q1_m = 'Y2VudHJpZnVnZXMgdGVsZWNvbW11bmljYXRpb24gYmlydGhzdG9uZXMgYXBwcm94aW1hdGVzIGFicmFzaXZlbmVzcyBhbHBoYWJldGl6ZWQgdGVldG90YWxsZXIgYmxvY2toZWFkcyBiZWNhbG1pbmcgZWNvbG9naWNhbCBlbHNld2hlcmUgYnVzaW5lc3NsaWtlIGNvY2tzY29tYnMgZ3JlZW5ob3VzZXMgdW5kZXJlc3RpbWF0ZSBtYXJtb3NldHMgc29saWNpdG91c2x5IHRyYW5zY2VuZGVudGFsaXNtIGV4dHJhdmVydHMgaGFsbHVjaW5vZ2VuaWNzLg=='\n",
    "Q1_x = 7865153063309199325895146699540685310850067635968336867528075485158673984696354316621989782751410324009003258450207"
   ]
  },
  {
   "cell_type": "code",
   "execution_count": 3,
   "metadata": {},
   "outputs": [],
   "source": [
    "def base2byte(element):\n",
    "    return base64.b64decode(element)"
   ]
  },
  {
   "cell_type": "code",
   "execution_count": 4,
   "metadata": {},
   "outputs": [],
   "source": [
    "def byte2base(element):\n",
    "    return base64.b64encode(element)"
   ]
  },
  {
   "cell_type": "code",
   "execution_count": 5,
   "metadata": {},
   "outputs": [],
   "source": [
    "def byte2hex(element):\n",
    "    return binascii.hexlify(element)"
   ]
  },
  {
   "cell_type": "code",
   "execution_count": 6,
   "metadata": {},
   "outputs": [],
   "source": [
    "def hex2byte(element):\n",
    "    if len(element)%2 != 0 :\n",
    "        element = '0' + element\n",
    "    return binascii.unhexlify(element)"
   ]
  },
  {
   "cell_type": "code",
   "execution_count": 7,
   "metadata": {},
   "outputs": [],
   "source": [
    "def byte2bin(element):\n",
    "    return str(util.ascii_to_bin(element))"
   ]
  },
  {
   "cell_type": "code",
   "execution_count": 8,
   "metadata": {},
   "outputs": [],
   "source": [
    "def bin2byte(element):\n",
    "    return str(util.bin_to_ascii(element))"
   ]
  },
  {
   "cell_type": "code",
   "execution_count": 9,
   "metadata": {},
   "outputs": [],
   "source": [
    "def hex2bin(element):\n",
    "    return byte2bin(hex2byte(element))"
   ]
  },
  {
   "cell_type": "code",
   "execution_count": 10,
   "metadata": {},
   "outputs": [],
   "source": [
    "def bin2hex(element):\n",
    "    return byte2hex(bin2byte(element))"
   ]
  },
  {
   "cell_type": "code",
   "execution_count": 11,
   "metadata": {},
   "outputs": [],
   "source": [
    "def hex2int(element):\n",
    "    temp = int(element,16)\n",
    "    return temp"
   ]
  },
  {
   "cell_type": "code",
   "execution_count": 12,
   "metadata": {},
   "outputs": [],
   "source": [
    "def int2hex(element):\n",
    "    temp = hex(element)\n",
    "    if temp[-1] == 'L':\n",
    "        temp = temp[:-1]\n",
    "    if temp[0:2] == '0x':\n",
    "        return temp[2:]\n",
    "    else:\n",
    "        return temp"
   ]
  },
  {
   "cell_type": "code",
   "execution_count": 13,
   "metadata": {},
   "outputs": [],
   "source": [
    "def int2bin(element):\n",
    "    return bin(element)[2:]"
   ]
  },
  {
   "cell_type": "code",
   "execution_count": 14,
   "metadata": {},
   "outputs": [],
   "source": [
    "def bin2int(element):\n",
    "    return int(element,2)"
   ]
  },
  {
   "cell_type": "code",
   "execution_count": 15,
   "metadata": {},
   "outputs": [],
   "source": [
    "# create elliptic curve out of brain pool params\n",
    "\n",
    "p = \"8CB91E82A3386D280F5D6F7E50E641DF152F7109ED5456B412B1DA197FB71123ACD3A729901D1A71874700133107EC53\"\n",
    "\n",
    "A = \"7BC382C63D8C150C3C72080ACE05AFA0C2BEA28E4FB22787139165EFBA91F90F8AA5814A503AD4EB04A8C7DD22CE2826\"\n",
    "\n",
    "B = \"04A8C7DD22CE28268B39B55416F0447C2FB77DE107DCD2A62E880EA53EEB62D57CB4390295DBC9943AB78696FA504C11\"\n",
    "\n",
    "x = \"1D1C64F068CF45FFA2A63A81B7C13F6B8847A3E77EF14FE3DB7FCAFE0CBD10E8E826E03436D646AAEF87B2E247D4AF1E\"\n",
    "\n",
    "y = \"8ABE1D7520F9C2A45CB1EB8E95CFD55262B70B29FEEC5864E19C054FF99129280E4646217791811142820341263C5315\"\n",
    "\n",
    "q = \"8CB91E82A3386D280F5D6F7E50E641DF152F7109ED5456B31F166E6CAC0425A7CF3AB6AF6B7FC3103B883202E9046565\"\n",
    "\n",
    "h = \"1\"\n",
    "\n",
    "# reload params as integers\n",
    "p = hex2int(p)\n",
    "A = hex2int(A)\n",
    "B = hex2int(B)\n",
    "x = hex2int(x)\n",
    "y = hex2int(y)\n",
    "q = hex2int(q)\n",
    "h = hex2int(h)\n",
    "\n",
    "# sanity checks:\n",
    "\n",
    "if not is_prime(p):\n",
    "    print \"p is not prime\"\n",
    "\n",
    "if x >= p or y >= p:\n",
    "    print \"tuple is not in the field\"\n",
    "\n",
    "EC = EllipticCurve(GF(p), [A,B])\n",
    "G = EC(x,y)\n",
    "\n",
    "if G == EC(0) or (q * G) != EC(0):\n",
    "    print(\"G aint any good\")\n",
    "\n",
    "if len(bin(p)) % 8 != 2:\n",
    "    print(\"p_len not div by 8\")"
   ]
  },
  {
   "cell_type": "code",
   "execution_count": 16,
   "metadata": {},
   "outputs": [],
   "source": [
    "lambda_ = len(int2bin(q)) # lambda is the bit length of p"
   ]
  },
  {
   "cell_type": "code",
   "execution_count": 17,
   "metadata": {},
   "outputs": [],
   "source": [
    "def encode_field_element(elem):\n",
    "    temp = int2hex(elem)\n",
    "    num_zeros = lambda_/32 # from bit to hex divide by 32\n",
    "    temp = '0' * (num_zeros - len(temp)) + temp  # pad with zeros\n",
    "    return hex2byte(temp)"
   ]
  },
  {
   "cell_type": "code",
   "execution_count": 18,
   "metadata": {},
   "outputs": [],
   "source": [
    "def decode_field_element(elem):\n",
    "    \n",
    "    temp = Integer(bin2int(byte2bin(elem)))\n",
    "    try: # check if point has y coordinate\n",
    "        EC.lift_x(temp)\n",
    "        return temp\n",
    "    except:\n",
    "        print('x doesnt belong to curve')"
   ]
  },
  {
   "cell_type": "code",
   "execution_count": 19,
   "metadata": {},
   "outputs": [],
   "source": [
    "def encode_ring_element(elem):\n",
    "    temp = int2hex(elem)\n",
    "    num_zeros = lambda_/32\n",
    "    temp = '0' * (num_zeros - len(temp)) + temp\n",
    "    return hex2byte(temp)"
   ]
  },
  {
   "cell_type": "code",
   "execution_count": 20,
   "metadata": {},
   "outputs": [],
   "source": [
    "def decode_ring_element(elem):\n",
    "    \n",
    "    temp = Integer(bin2int(byte2bin(elem)))\n",
    "    if temp < q: # check if element is in Zq\n",
    "        return temp\n",
    "    else:\n",
    "        raise Exception('Element doesnt belong to ring')"
   ]
  },
  {
   "cell_type": "code",
   "execution_count": 21,
   "metadata": {},
   "outputs": [],
   "source": [
    "def encode_point(point):\n",
    "    x_coor = int(point[0])\n",
    "    y_coor = int(point[1])\n",
    "    x_byte = encode_field_element(x_coor)\n",
    "    if is_odd(y_coor):\n",
    "        x_byte = x_byte + hex2byte(int2hex(15))\n",
    "    else:\n",
    "        x_byte = x_byte + hex2byte(int2hex(255))\n",
    "    return x_byte"
   ]
  },
  {
   "cell_type": "code",
   "execution_count": 22,
   "metadata": {},
   "outputs": [],
   "source": [
    "def decode_point(point):\n",
    "    \n",
    "    zero_byte = hex2byte('0' + int2hex(0))\n",
    "    is_infinity = True\n",
    "    for i in range(0,len(point)):\n",
    "        if point[i] != zero_byte:\n",
    "            is_infinity = False\n",
    "            break\n",
    "    if is_infinity:\n",
    "        return EC(0,0)\n",
    "    else:\n",
    "        last_byte = point[-1]\n",
    "        if ((last_byte)!= hex2byte(int2hex(15))) and ((last_byte)!= hex2byte(int2hex(255))):\n",
    "            raise Exception('invalid last encoding , byte = {}'.format(last_byte))\n",
    "        else:\n",
    "            x_coor_bytes = point[:-1]\n",
    "            x_coor_int =  decode_field_element(x_coor_bytes)\n",
    "            elliptic_points = EC.lift_x(x_coor_int,all=True)\n",
    "            \n",
    "            # select point based on parity\n",
    "            point_zero = elliptic_points[0].xy()\n",
    "            point_zero_y = int(point_zero[1])\n",
    "            if last_byte == hex2byte(int2hex(15)):\n",
    "                if is_odd(point_zero_y):\n",
    "                    return elliptic_points[0]\n",
    "                else:\n",
    "                    return elliptic_points[1]\n",
    "            else:\n",
    "                if is_even(point_zero_y):\n",
    "                    return elliptic_points[0]\n",
    "                else:\n",
    "                    return elliptic_points[1]\n",
    "            \n",
    "            \n",
    "            return elliptic_point"
   ]
  },
  {
   "cell_type": "code",
   "execution_count": 23,
   "metadata": {},
   "outputs": [],
   "source": [
    "def encode_into_domain(x):\n",
    "    \n",
    "    x_hex = int2hex(x)\n",
    "    x_hex = '0'* (8 - len(x_hex)) + x_hex # pad to get 4 bytes\n",
    "    if len(x_hex)>8:\n",
    "        x_hex = x_hex[-8:] # return last 8 bytes\n",
    "    x_bytes = hex2byte(x_hex)\n",
    "    return x_bytes[::-1] # reverse bytes"
   ]
  },
  {
   "cell_type": "code",
   "execution_count": 24,
   "metadata": {},
   "outputs": [],
   "source": [
    "def Xor(str1,str2,b):\n",
    "    y = int(str1,2) ^ int(str2,2)\n",
    "    return STRB(y,b)"
   ]
  },
  {
   "cell_type": "code",
   "execution_count": 25,
   "metadata": {},
   "outputs": [],
   "source": [
    "def STRB(input_int,b):\n",
    "    int_to_bin = bin(input_int)[2:]\n",
    "    num_zeros = b - len(int_to_bin)\n",
    "    int_to_bin = ('0'* num_zeros) + int_to_bin\n",
    "    return int_to_bin"
   ]
  },
  {
   "cell_type": "code",
   "execution_count": 26,
   "metadata": {},
   "outputs": [],
   "source": [
    "def hashstream(input_seed,msg):\n",
    "    \n",
    "    length = -1\n",
    "    msg_length_bits = len(msg) * 8\n",
    "    if msg_length_bits> (2**40):\n",
    "        length = (2**40 - 1)/256\n",
    "    else:\n",
    "        length = int(msg_length_bits/256) + 1 # number of blocks needed\n",
    "        \n",
    "    blocks = ''\n",
    "    for i in range(length):\n",
    "        i_four = encode_into_domain(i)\n",
    "        hash_block = hashlib.sha256(i_four + input_seed).digest()\n",
    "        blocks = blocks + hash_block\n",
    "     \n",
    "    msg_bits = byte2bin(msg)\n",
    "    hash_bits = byte2bin(blocks)\n",
    "    \n",
    "    if len(hash_bits) > len(msg_bits):\n",
    "        hash_bits = hash_bits[0:len(msg_bits)]\n",
    "    else:\n",
    "        msg_bits = msg_bits[0:len(hash_bits)]\n",
    "    \n",
    "    \n",
    "    \n",
    "    result = Xor(msg_bits,hash_bits,len(msg_bits))\n",
    "    \n",
    "    return result"
   ]
  },
  {
   "cell_type": "code",
   "execution_count": 27,
   "metadata": {},
   "outputs": [],
   "source": [
    "def encryption(public_key,msg):\n",
    "    \n",
    "    pk_byte = base2byte(public_key)\n",
    "    pk_point = decode_point(pk_byte)\n",
    "    x = Q1_x\n",
    "    X = x * G\n",
    "    K = x * pk_point\n",
    "    \n",
    "    X_en = encode_point(X.xy())\n",
    "    K_en = encode_point(K.xy())\n",
    "    l = encode_into_domain(len(msg) * 8)\n",
    "        \n",
    "    c = bin2byte(hashstream(l+K_en,msg))\n",
    "    ct = c + X_en\n",
    "    ct = base64.b64encode(ct)\n",
    "    return ct"
   ]
  },
  {
   "cell_type": "code",
   "execution_count": 28,
   "metadata": {},
   "outputs": [],
   "source": [
    "def decryption(secret_key,cipher_text):\n",
    "    \n",
    "    sk_bytes = base2byte(secret_key)\n",
    "    sk = decode_ring_element(sk_bytes)\n",
    "    cipher = base2byte(cipher_text)\n",
    "    cipher_len = len(cipher) * 8\n",
    "    cipher_len = cipher_len - lambda_ - 8\n",
    "    if not ((cipher_len < (2**32)) and (cipher_len>0)):\n",
    "        return \"Nothing\"\n",
    "    else:\n",
    "        x_enc_length = (lambda_ + 8)/8\n",
    "        c = cipher[0:(len(cipher) - x_enc_length)]\n",
    "        X_en = cipher[-x_enc_length:]\n",
    "        l = encode_into_domain(len(c) * 8)\n",
    "        X = decode_point(X_en)\n",
    "        K = sk * X\n",
    "        K_en = encode_point(K.xy())\n",
    "        msg = bin2byte(hashstream(l+K_en,c))\n",
    "        msg = base64.b64encode(msg)\n",
    "        return msg"
   ]
  },
  {
   "cell_type": "code",
   "execution_count": 29,
   "metadata": {},
   "outputs": [
    {
     "name": "stdout",
     "output_type": "stream",
     "text": [
      "x doesnt belong to curve\n",
      "Algorithm failed\n"
     ]
    }
   ],
   "source": [
    "try:\n",
    "    print(decryption(Q1_bad[0],Q1_bad[2]) == Q1_bad[1])\n",
    "except:\n",
    "    print(\"Algorithm failed\")"
   ]
  },
  {
   "cell_type": "code",
   "execution_count": 30,
   "metadata": {},
   "outputs": [
    {
     "data": {
      "text/plain": [
       "[1, 1, 0, 1, 1]"
      ]
     },
     "execution_count": 30,
     "metadata": {},
     "output_type": "execute_result"
    }
   ],
   "source": [
    "result = []\n",
    "for (sk,m,ct) in Q1_list:\n",
    "    try:\n",
    "        msg = decryption(sk,ct)\n",
    "        if msg == m:\n",
    "            result.append(1)\n",
    "        else:\n",
    "            result.append(0)\n",
    "    except Exception, e:\n",
    "        print(\"Aborted\")\n",
    "        result.append(0)\n",
    "result"
   ]
  },
  {
   "cell_type": "code",
   "execution_count": 31,
   "metadata": {},
   "outputs": [
    {
     "data": {
      "text/plain": [
       "'DXc05PTYdXTN4cEtbuEWOhHqF2boMaqyjodLRvpSm53gLLl0ZbqSEqpakneFEDCyaKPbRy5NDfqvCh5bePjFmR1A+F6IzpD6lzOj2B2j05KhWo3RnyR2aS7ff5EDy0iWwVWId6xIv3pYn48hrlaRv1fOJO7Jr5AeJe5MrKKNTLucZnMALpKLriiTVR5s1CL27ZMgJ0Qr2PWdPXPqnJ6oePz+2IrEMERalotB8M67SLzR7Ud7x+AXQG/suPfnOD8zIJZpEnNmD9ZMzYt28Y64zFdJnWdr22/MRUc8zqIdWvIH8o2JrZCxcaUE1R3G5ayz4al/KYOPJi8BKf7ynl90N4ecv1n5qkQCcH5nz5hGtVf/C8sqQB7QkyK6wRN+LwopwUFBIbk5AfRoiu2QOw8='"
      ]
     },
     "execution_count": 31,
     "metadata": {},
     "output_type": "execute_result"
    }
   ],
   "source": [
    "m_bytes = base64.b64decode(Q1_m)\n",
    "encryption(Q1_pk,m_bytes)"
   ]
  },
  {
   "cell_type": "markdown",
   "metadata": {},
   "source": [
    "# Modes of operation with counter"
   ]
  },
  {
   "cell_type": "markdown",
   "metadata": {},
   "source": [
    "__NOTE__ : Please run this using sage kernel"
   ]
  },
  {
   "cell_type": "code",
   "execution_count": 2,
   "metadata": {},
   "outputs": [],
   "source": [
    "IV2=\"yIOZSa1VYnmaEqqFjZE3/w==\"\n",
    "C2=\"5f3nmPmJGqDuQQ8IhMTKOtB8dC4B83lczYBvLR/L82FKFqq66gG9rvExSK+wrewMPN5gBJSdru5VIIGkLHYzOiKwlBbVSkHBPsCFq5p1O5PN89QA1MC5+gtDq5HgTnb6eFD+pchZS3GAbifpYrzgOWDnDvsXEFG9foTtBymldBh6hgIqGaSFDsyg4PJHuCa8560oWK301ArOT5no/u2T5TF31CHmLH0h/pEjWZlwo2KmheVJvjChbOd/GxRtGpbmnHbJ4mofCBOA86kOzwiNoxgFhz3tjzYRtt09YcCnQyQ=\""
   ]
  },
  {
   "cell_type": "code",
   "execution_count": 3,
   "metadata": {},
   "outputs": [],
   "source": [
    "import socket\n",
    "import base64\n",
    "\n",
    "def connect_server(server_name, port, message):\n",
    "    server = (server_name, int(port)) #calling int is required when using Sage\n",
    "    s = socket.create_connection(server)\n",
    "    s.send(message + \"\\n\")\n",
    "    response=\"\"\n",
    "    while True: #data might come in several packets, need to wait for all of it\n",
    "        data = s.recv(1024)\n",
    "        if len(data) == 0:\n",
    "            break\n",
    "        if data[-1] == '\\n': \n",
    "            response += data[:-1]  \n",
    "            break\n",
    "        response += data\n",
    "    s.close()\n",
    "    return response"
   ]
  },
  {
   "cell_type": "code",
   "execution_count": 4,
   "metadata": {},
   "outputs": [],
   "source": [
    "def query_server_Q2(s):\n",
    "    b64 = base64.b64encode(s)\n",
    "    res = connect_server(\"lasecpc25.epfl.ch\", 6666, \"281141 {}\\n\".format(b64))\n",
    "    return base64.b64decode(res)\n",
    "\n",
    "def BigEnd(N):\n",
    "    \"\"\"Input: int, output: hex\"\"\"\n",
    "    N_hex = binascii.hexlify(struct.pack('>Q', N))\n",
    "    return binascii.unhexlify(N_hex)\n",
    "\n",
    "def LitEnd(N):\n",
    "    \"\"\"Input: int, output: hex\"\"\"\n",
    "    N_hex = binascii.hexlify(struct.pack('<Q', N))\n",
    "    return binascii.unhexlify(N_hex)\n",
    "\n",
    "def XOR(a, b):\n",
    "    \"\"\"Bitwise XOR between binary a and b\"\"\"\n",
    "    y = int(a, 2) ^^ int(b, 2)\n",
    "    return bin(y)[2:].zfill(len(a))\n",
    "\n",
    "def add(b, n):\n",
    "    y = int(b, 2) + n\n",
    "    return bin(y)[2:].zfill(len(b))\n",
    "\n",
    "def replace_at(s, idx, v):\n",
    "    l = list(s)\n",
    "    l[idx] = v\n",
    "    return \"\".join(l)\n",
    "\n",
    "def XOR_byte(a, b):\n",
    "    return bin_to_ascii(XOR(ascii_to_bin(a), ascii_to_bin(b)))\n",
    "\n",
    "def bin_to_ascii(x):\n",
    "    return util.bin_to_ascii(x)\n",
    "\n",
    "def ascii_to_bin(x):\n",
    "    return str(util.ascii_to_bin(x))\n",
    "\n",
    "def int_to_bin(x, bit_length):\n",
    "    temp = \"{:0b}\".format(x)\n",
    "    temp =  temp.zfill(bit_length)\n",
    "    return temp"
   ]
  },
  {
   "cell_type": "code",
   "execution_count": 5,
   "metadata": {},
   "outputs": [
    {
     "data": {
      "text/plain": [
       "'UmVkIEZveCEAAAAAAAAAAAAAAAAAAAAAAAAAAAAAAAA='"
      ]
     },
     "execution_count": 5,
     "metadata": {},
     "output_type": "execute_result"
    }
   ],
   "source": [
    "base64.b64encode(\"Red Fox!\\x00\\x00\\x00\\x00\\x00\\x00\\x00\\x00\\x00\\x00\\x00\\x00\\x00\\x00\\x00\\x00\\x00\\x00\\x00\\x00\\x00\\x00\\x00\\x00\")"
   ]
  },
  {
   "cell_type": "code",
   "execution_count": 6,
   "metadata": {},
   "outputs": [
    {
     "data": {
      "text/plain": [
       "('0123456789abcdef', 'efcdab8967452301')"
      ]
     },
     "execution_count": 6,
     "metadata": {},
     "output_type": "execute_result"
    }
   ],
   "source": [
    "int((binascii.hexlify(base64.b64decode(IV2))),16)\n",
    "binascii.hexlify(BigEnd(81985529216486895)), binascii.hexlify(LitEnd(81985529216486895))"
   ]
  },
  {
   "cell_type": "code",
   "execution_count": 16,
   "metadata": {},
   "outputs": [
    {
     "data": {
      "text/plain": [
       "False"
      ]
     },
     "execution_count": 16,
     "metadata": {},
     "output_type": "execute_result"
    }
   ],
   "source": [
    "### First, find out the last 2 bits of N\n",
    "\n",
    "M0 = BigEnd(0) + LitEnd(0)\n",
    "M1 = BigEnd(1) + LitEnd(1)\n",
    "\n",
    "\n",
    "out1 = query_server_Q2(M1)\n",
    "out2 = query_server_Q2(M1)\n",
    "\n",
    "# If it is True, it means that the two queries have used respectively CBC and CFB correctly.\n",
    "XOR_byte(out2, out1) == M1"
   ]
  },
  {
   "cell_type": "code",
   "execution_count": 18,
   "metadata": {},
   "outputs": [
    {
     "data": {
      "text/plain": [
       "'7\\x9c\\x1e\\xa6\\x83\\xba[}\\x95\\xdb\\xc5\\x00\\x88\\x13j\\xfe'"
      ]
     },
     "execution_count": 18,
     "metadata": {},
     "output_type": "execute_result"
    }
   ],
   "source": [
    "XOR_byte(out2, out1)"
   ]
  },
  {
   "cell_type": "code",
   "execution_count": 8,
   "metadata": {},
   "outputs": [],
   "source": [
    "\n",
    "### Now we know that the current N value is 2 mod 4 (since 2 queries before, it was = 0 (mod 4)).\n",
    "\n",
    "# We do another 2 queries, so that N = 0 (mod 4) again\n",
    "query_server_Q2(M0); query_server_Q2(M0);"
   ]
  },
  {
   "cell_type": "code",
   "execution_count": 9,
   "metadata": {},
   "outputs": [],
   "source": [
    "### We know the last 2 bits, recover the rest (except the most significant one)\n",
    "N = int_to_bin(0,bit_length=64)"
   ]
  },
  {
   "cell_type": "code",
   "execution_count": 10,
   "metadata": {},
   "outputs": [
    {
     "data": {
      "text/plain": [
       "'0000000000000000000000000000000000000000000000000000000000000000'"
      ]
     },
     "execution_count": 10,
     "metadata": {},
     "output_type": "execute_result"
    }
   ],
   "source": [
    "N"
   ]
  },
  {
   "cell_type": "code",
   "execution_count": 11,
   "metadata": {},
   "outputs": [],
   "source": [
    "for k in xrange(2, 63):\n",
    "    # Every time, to recover the k_th last bit, we assume it is 0, and compare outputs of CBC and OFB\n",
    "    # During CTR mode, we inject a message of length (k-2) blocks\n",
    "    out1 = query_server_Q2(BigEnd(2^k + 3) + LitEnd(2^k + 3))\n",
    "    query_server_Q2(M0)\n",
    "    query_server_Q2((k-1)*M0)\n",
    "    out2 = query_server_Q2(M0)\n",
    "    N = replace_at(N, -(k+1), '0' if out1 == out2 else '1')\n",
    "    N = add(N, 2^k + 4)"
   ]
  },
  {
   "cell_type": "code",
   "execution_count": 12,
   "metadata": {},
   "outputs": [
    {
     "data": {
      "text/plain": [
       "'0111111111111111111111111111111111111111110000000000011101100110'"
      ]
     },
     "execution_count": 12,
     "metadata": {},
     "output_type": "execute_result"
    }
   ],
   "source": [
    "N"
   ]
  },
  {
   "cell_type": "code",
   "execution_count": 13,
   "metadata": {},
   "outputs": [],
   "source": [
    "IV2_byte = base64.b64decode(IV2)\n",
    "C2_byte =  base64.b64decode(C2)\n",
    "\n",
    "AES = {} # AES table for the values we need\n",
    "C_list = [IV2_byte] + [C2_byte[i:i+16] for i in range(0, len(C2_byte), 16)]\n",
    "\n",
    "for C in C_list:\n",
    "    N_int = int(N, 2)\n",
    "    IV = BigEnd(N_int) + LitEnd(N_int)\n",
    "    out = query_server_Q2(XOR_byte(IV, C))\n",
    "    AES[C] = out\n",
    "    query_server_Q2(M0); query_server_Q2(M0); query_server_Q2(M0)\n",
    "\n",
    "    N = add(N, 8)"
   ]
  },
  {
   "cell_type": "code",
   "execution_count": 22,
   "metadata": {},
   "outputs": [
    {
     "data": {
      "text/plain": [
       "'Since we are encrypting this message with CBC mode, the length of the message must be a multiple of 16. That means that the length of random word clavier should be 7 modulo 16 because this message consists of 224 characters.'"
      ]
     },
     "execution_count": 22,
     "metadata": {},
     "output_type": "execute_result"
    }
   ],
   "source": [
    "s = \"\"\n",
    "for i in range(len(C_list) - 1):\n",
    "    s += XOR_byte(AES[C_list[i]], C_list[i+1])\n",
    "s"
   ]
  },
  {
   "cell_type": "code",
   "execution_count": 15,
   "metadata": {},
   "outputs": [],
   "source": [
    "# We don't know the most significant bit\n",
    "# If the following ciphertext is not decrypted into meaningful ASCII, it means that the most significant bit is not the correct one. \n",
    "N = XOR(N, '1000000000000000000000000000000000000000000000000000000000000000')"
   ]
  },
  {
   "cell_type": "markdown",
   "metadata": {},
   "source": [
    "# Return of Vernam cipher"
   ]
  },
  {
   "cell_type": "code",
   "execution_count": 33,
   "metadata": {},
   "outputs": [],
   "source": [
    "p3=699802763607203174845032540020089692349581167953375281478177953237955229091099680081380600962387719273597\n",
    "n3=699802763607203174845032540020089692349581167953375281478177953237955229091099680081380600962387719273598\n",
    "k3=112965122454105818519362591698934638920439618839427449593542221146686839620173937856193008729230264260830\n",
    "c3=\"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\""
   ]
  },
  {
   "cell_type": "code",
   "execution_count": 34,
   "metadata": {},
   "outputs": [
    {
     "data": {
      "text/plain": [
       "2 * 3 * 2189713 * 2690659 * 2820017 * 2867959 * 3205519 * 3212147 * 3238231 * 3267727 * 3297683 * 3312077 * 3427747 * 3470003 * 3583357 * 3588469 * 3602749 * 3732719"
      ]
     },
     "execution_count": 34,
     "metadata": {},
     "output_type": "execute_result"
    }
   ],
   "source": [
    "factor(n3)"
   ]
  },
  {
   "cell_type": "code",
   "execution_count": 35,
   "metadata": {},
   "outputs": [],
   "source": [
    "factorList = []\n",
    "for fac in (factor(n3)):\n",
    "    factorList.append(fac[0])\n",
    "    \n",
    "allFactor = []\n",
    "for i in range (1,3):\n",
    "    for pairs in combinations(factorList,i):\n",
    "        allFactor.append(numpy.prod(pairs))"
   ]
  },
  {
   "cell_type": "code",
   "execution_count": 36,
   "metadata": {},
   "outputs": [],
   "source": [
    "cipher_bit = ''\n",
    "K = []\n",
    "cipher_bit = byte2bin(base2byte(c3))\n",
    "cipherLength = len(cipher_bit)"
   ]
  },
  {
   "cell_type": "code",
   "execution_count": 37,
   "metadata": {},
   "outputs": [
    {
     "data": {
      "text/plain": [
       "187192"
      ]
     },
     "execution_count": 37,
     "metadata": {},
     "output_type": "execute_result"
    }
   ],
   "source": [
    "len(cipher_bit)"
   ]
  },
  {
   "cell_type": "code",
   "execution_count": 38,
   "metadata": {},
   "outputs": [
    {
     "data": {
      "text/plain": [
       "18"
      ]
     },
     "execution_count": 38,
     "metadata": {},
     "output_type": "execute_result"
    }
   ],
   "source": [
    "len(factorList)"
   ]
  },
  {
   "cell_type": "code",
   "execution_count": 39,
   "metadata": {},
   "outputs": [
    {
     "name": "stdout",
     "output_type": "stream",
     "text": [
      "situation1\n",
      "It is always not easy to select a message with a random word such as repainting. Actually, I can just copy and paste some known dialgoues while replacing one word. But, I didn't do cause I don't want to find it\n"
     ]
    }
   ],
   "source": [
    "for order in allFactor:\n",
    "    order = int(order)\n",
    "    XorCipher = ''\n",
    "    if order in [2,3,6]:\n",
    "        continue\n",
    "    start = mod(k3,order)\n",
    "    end = start+cipherLength-1\n",
    "    mid = int(order/2)\n",
    "    \n",
    "    if (start<=mid and end <=mid) or (start>mid and end <=order-1):\n",
    "        continue\n",
    "    \n",
    "    elif start <mid and end > mid:\n",
    "        if end-mid>mid-start:\n",
    "            L = mid - start\n",
    "            left = cipher_bit[:L]\n",
    "            right_reverse = cipher_bit[L+1:2*L+1]\n",
    "            right = right_reverse[::-1]\n",
    "            XorCipher = Xor(left,right,L)\n",
    "            print('situation1')\n",
    "        else:\n",
    "            L = end - mid \n",
    "            right_reverse = cipher_bit[mid+1-start:end-start+1]\n",
    "            left = cipher_bit[mid-L-start:mid-start]\n",
    "            right = right_reverse[::-1]\n",
    "            XorCipher = Xor(left,right,L)\n",
    "            if XorCipher[:8]!='00000000':\n",
    "                continue\n",
    "            print('situation2')\n",
    "                \n",
    "    elif end < start:\n",
    "        if end > order-1 - start :\n",
    "            L = order-start\n",
    "            left = cipher_bit[:order-start]\n",
    "            right_reverse = cipher_bit[-start:L-start]\n",
    "            right = right_reverse[::-1]\n",
    "            XorCipher = Xor(left,right,L)\n",
    "            print('situation3')\n",
    "                \n",
    "        elif end <=order - 1 - start :\n",
    "            L = end\n",
    "            right_reverse = cipher_bit[:end+1]\n",
    "            left = cipher_bit[-start-L-1:-start]\n",
    "            right = right_reverse[::-1]\n",
    "            XorCipher = Xor(left,right,L)\n",
    "            print('situation4')\n",
    "            \n",
    "    for i in range(0,len(XorCipher),8):\n",
    "        if XorCipher[i:i+8]!='00000000':\n",
    "            XorCipher = XorCipher[i:]\n",
    "            break\n",
    "    for j in range(len(XorCipher)-1,6,-8):\n",
    "        if XorCipher[j-7:j+1]!='00000000':\n",
    "            XorCipher = XorCipher[:j+1]\n",
    "            break\n",
    "    cut = len(XorCipher) % 8 \n",
    "    XorCipher = XorCipher[:-cut]\n",
    "    print(bin2byte(XorCipher))\n",
    "    \n"
   ]
  },
  {
   "cell_type": "markdown",
   "metadata": {},
   "source": [
    "# ByteCipher"
   ]
  },
  {
   "cell_type": "code",
   "execution_count": 40,
   "metadata": {},
   "outputs": [],
   "source": [
    "def encode_then_query_list(sciper, L):\n",
    "    # L must be a list of tuples (m, iv0, ctext) as in encode_then_query\n",
    "    ln = len(L)\n",
    "    # ln can be max 100\n",
    "    query = str(sciper) + \" \" + str(ln)\n",
    "    for i in xrange(ln):\n",
    "        (m, iv0, c) = L[i]\n",
    "        query += \" \" + base64.b64encode(m) + \" \" + str(iv0) + \" \" + base64.b64encode(c)\n",
    "\n",
    "    response = connect_server(\"lasecpc25.epfl.ch\", int(5559), query)\n",
    "    \n",
    "    #print response\n",
    "    try:\n",
    "        response_list = response.split(\" \")\n",
    "        response_list = [int(x) for x in response_list]\n",
    "        return (True, response_list)\n",
    "    except:\n",
    "        return (False, response)"
   ]
  },
  {
   "cell_type": "code",
   "execution_count": 41,
   "metadata": {},
   "outputs": [
    {
     "name": "stdout",
     "output_type": "stream",
     "text": [
      "37\n",
      "37\n",
      "(True, [0])\n",
      "My query was executed just fine by the oracle (does not mean my pair was valid)\n",
      "Luck is hard to find nowadays, my first pair is invalid.\n",
      "No luck with the second\n",
      "(True, [0, 0])\n",
      "37\n"
     ]
    }
   ],
   "source": [
    "\n",
    "# Use \n",
    "# base64.b64encode to convert non-printable strings into base64 strings\n",
    "# base64.b64decode is the inverse\n",
    "\n",
    "\n",
    "# Let's make a query\n",
    "\n",
    "if len(sys.argv) < 2:\n",
    "    print \"I need your sciper as the first argument\"\n",
    "    exit(0)\n",
    "\n",
    "sciper = sys.argv[1]\n",
    "\n",
    "msg1 = \"Hey, I want to ask you something.....\"\n",
    "print len(msg1)\n",
    "# let's make a ciphertext guess\n",
    "IV1 = 3\n",
    "c1 = \"Maybe this is the ciphertext for msg!\"\n",
    "print len(c1)\n",
    "IV2 = 217\n",
    "c2 = \"\\x00___   __..awd\\x98\\x90\\\\//xx#\\x98\\x90\\x00\\x98r[.z]==\\x90x8\\x90\"\n",
    "\n",
    "sciper = 280678\n",
    "# We can make a single query as below\n",
    "L1 = [(msg1, IV1, c1)]\n",
    "(valid , resp1) = encode_then_query_list(sciper, L1)\n",
    "print((valid , resp1))\n",
    "# ''valid'' tells me if my query was handled properly, i.e. the oracle returned a list\n",
    "# filled with ones or zeros\n",
    "# if ''valid'' is false, you can print the resp1 to see what went wrong\n",
    "\n",
    "if not valid:\n",
    "    print \"Something went wrong with my query, here is the message\"\n",
    "    print resp1\n",
    "    exit(1)\n",
    "else:\n",
    "    print \"My query was executed just fine by the oracle (does not mean my pair was valid)\"\n",
    "\n",
    "\n",
    "if resp1 == [1]: # note that resp1 is a list of integers\n",
    "    print \"I must be too luck, this is a valid pair\"\n",
    "else:\n",
    "    print \"Luck is hard to find nowadays, my first pair is invalid.\"\n",
    "\n",
    "# Let's make a list of queries simulateously to save time\n",
    "L2 = [(msg1, IV1, c1), (msg1, IV2, c2)]\n",
    "resp2 = encode_then_query_list(sciper, L2)\n",
    "\n",
    "if resp2[1] == 1:\n",
    "    print \"My second ciphertext is valid, wow!\"\n",
    "else:\n",
    "    print \"No luck with the second\"\n",
    "\n",
    "print(resp2)\n",
    "\n",
    "\n",
    "\n",
    "\n",
    "print len(c2)"
   ]
  },
  {
   "cell_type": "code",
   "execution_count": 42,
   "metadata": {},
   "outputs": [],
   "source": [
    "def hex2int(hex_num):\n",
    "    int_num = int(hex_num,16) # use int base 16 to get the hex in int\n",
    "    return int_num\n",
    "\n",
    "def int2hex(int_num):\n",
    "    hex_res = hex(int_num)\n",
    "    return hex_res\n",
    "\n",
    "def int2byte(int_num):\n",
    "    hex_rep = int2hex(int_num)\n",
    "    \n",
    "    hex_rep = hex_rep.replace('0x','')\n",
    " \n",
    "    if len(hex_rep)%2 != 0:\n",
    "        hex_rep = '0' + hex_rep\n",
    "    \n",
    "    z = binascii.unhexlify(hex_rep)\n",
    "    return z\n"
   ]
  },
  {
   "cell_type": "code",
   "execution_count": 43,
   "metadata": {},
   "outputs": [],
   "source": [
    "Q4m = \"kitchenette discouragements nonreturnables tonsillectomies readjustments segregationist vibraphones telemeters nationalistic commemorates assists egotistically electorate pharmacopeias moonstone commiserates mistrustful bureaucratic authoritarianism emphasizes.\"\n",
    "Q4iv = 164"
   ]
  },
  {
   "cell_type": "code",
   "execution_count": 44,
   "metadata": {},
   "outputs": [
    {
     "name": "stdout",
     "output_type": "stream",
     "text": [
      "('we finish %d length', 0)\n",
      "('we finish %d length', 1)\n",
      "('we finish %d length', 2)\n",
      "('we finish %d length', 3)\n",
      "('we finish %d length', 4)\n",
      "('we finish %d length', 5)\n",
      "('we finish %d length', 6)\n",
      "('we finish %d length', 7)\n",
      "('we finish %d length', 8)\n",
      "('we finish %d length', 9)\n",
      "('we finish %d length', 10)\n",
      "('we finish %d length', 11)\n",
      "('we finish %d length', 12)\n",
      "('we finish %d length', 13)\n",
      "('we finish %d length', 14)\n",
      "('we finish %d length', 15)\n",
      "('we finish %d length', 16)\n",
      "('we finish %d length', 17)\n",
      "('we finish %d length', 18)\n",
      "('we finish %d length', 19)\n",
      "('we finish %d length', 20)\n",
      "('we finish %d length', 21)\n",
      "('we finish %d length', 22)\n",
      "('we finish %d length', 23)\n",
      "('we finish %d length', 24)\n",
      "('we finish %d length', 25)\n",
      "('we finish %d length', 26)\n",
      "('we finish %d length', 27)\n",
      "('we finish %d length', 28)\n",
      "('we finish %d length', 29)\n",
      "('we finish %d length', 30)\n",
      "('we finish %d length', 31)\n",
      "('we finish %d length', 32)\n",
      "('we finish %d length', 33)\n",
      "('we finish %d length', 34)\n",
      "('we finish %d length', 35)\n",
      "('we finish %d length', 36)\n",
      "('we finish %d length', 37)\n",
      "('we finish %d length', 38)\n",
      "('we finish %d length', 39)\n",
      "('we finish %d length', 40)\n",
      "('we finish %d length', 41)\n",
      "('we finish %d length', 42)\n",
      "('we finish %d length', 43)\n",
      "('we finish %d length', 44)\n",
      "('we finish %d length', 45)\n",
      "('we finish %d length', 46)\n",
      "('we finish %d length', 47)\n",
      "('we finish %d length', 48)\n",
      "('we finish %d length', 49)\n",
      "('we finish %d length', 50)\n",
      "('we finish %d length', 51)\n",
      "('we finish %d length', 52)\n",
      "('we finish %d length', 53)\n",
      "('we finish %d length', 54)\n",
      "('we finish %d length', 55)\n",
      "('we finish %d length', 56)\n",
      "('we finish %d length', 57)\n",
      "('we finish %d length', 58)\n",
      "('we finish %d length', 59)\n",
      "('we finish %d length', 60)\n",
      "('we finish %d length', 61)\n",
      "('we finish %d length', 62)\n",
      "('we finish %d length', 63)\n",
      "('we finish %d length', 64)\n",
      "('we finish %d length', 65)\n",
      "('we finish %d length', 66)\n",
      "('we finish %d length', 67)\n",
      "('we finish %d length', 68)\n",
      "('we finish %d length', 69)\n",
      "('we finish %d length', 70)\n",
      "('we finish %d length', 71)\n",
      "('we finish %d length', 72)\n",
      "('we finish %d length', 73)\n",
      "('we finish %d length', 74)\n",
      "('we finish %d length', 75)\n",
      "('we finish %d length', 76)\n",
      "('we finish %d length', 77)\n",
      "('we finish %d length', 78)\n",
      "('we finish %d length', 79)\n",
      "('we finish %d length', 80)\n",
      "('we finish %d length', 81)\n",
      "('we finish %d length', 82)\n",
      "('we finish %d length', 83)\n",
      "('we finish %d length', 84)\n",
      "('we finish %d length', 85)\n",
      "('we finish %d length', 86)\n",
      "('we finish %d length', 87)\n",
      "('we finish %d length', 88)\n",
      "('we finish %d length', 89)\n",
      "('we finish %d length', 90)\n",
      "('we finish %d length', 91)\n",
      "('we finish %d length', 92)\n",
      "('we finish %d length', 93)\n",
      "('we finish %d length', 94)\n",
      "('we finish %d length', 95)\n",
      "('we finish %d length', 96)\n",
      "('we finish %d length', 97)\n",
      "('we finish %d length', 98)\n",
      "('we finish %d length', 99)\n",
      "('we finish %d length', 100)\n",
      "('we finish %d length', 101)\n",
      "('we finish %d length', 102)\n",
      "('we finish %d length', 103)\n",
      "('we finish %d length', 104)\n",
      "('we finish %d length', 105)\n",
      "('we finish %d length', 106)\n",
      "('we finish %d length', 107)\n",
      "('we finish %d length', 108)\n",
      "('we finish %d length', 109)\n",
      "('we finish %d length', 110)\n",
      "('we finish %d length', 111)\n",
      "('we finish %d length', 112)\n",
      "('we finish %d length', 113)\n",
      "('we finish %d length', 114)\n",
      "('we finish %d length', 115)\n",
      "('we finish %d length', 116)\n",
      "('we finish %d length', 117)\n",
      "('we finish %d length', 118)\n",
      "('we finish %d length', 119)\n",
      "('we finish %d length', 120)\n",
      "('we finish %d length', 121)\n",
      "('we finish %d length', 122)\n",
      "('we finish %d length', 123)\n",
      "('we finish %d length', 124)\n",
      "('we finish %d length', 125)\n",
      "('we finish %d length', 126)\n",
      "('we finish %d length', 127)\n",
      "('we finish %d length', 128)\n",
      "('we finish %d length', 129)\n",
      "('we finish %d length', 130)\n",
      "('we finish %d length', 131)\n",
      "('we finish %d length', 132)\n",
      "('we finish %d length', 133)\n",
      "('we finish %d length', 134)\n",
      "('we finish %d length', 135)\n",
      "('we finish %d length', 136)\n",
      "('we finish %d length', 137)\n",
      "('we finish %d length', 138)\n",
      "('we finish %d length', 139)\n",
      "('we finish %d length', 140)\n",
      "('we finish %d length', 141)\n",
      "('we finish %d length', 142)\n",
      "('we finish %d length', 143)\n",
      "('we finish %d length', 144)\n",
      "('we finish %d length', 145)\n",
      "('we finish %d length', 146)\n",
      "('we finish %d length', 147)\n",
      "('we finish %d length', 148)\n",
      "('we finish %d length', 149)\n",
      "('we finish %d length', 150)\n",
      "('we finish %d length', 151)\n",
      "('we finish %d length', 152)\n",
      "('we finish %d length', 153)\n",
      "('we finish %d length', 154)\n",
      "('we finish %d length', 155)\n",
      "('we finish %d length', 156)\n",
      "('we finish %d length', 157)\n",
      "('we finish %d length', 158)\n",
      "('we finish %d length', 159)\n",
      "('we finish %d length', 160)\n",
      "('we finish %d length', 161)\n",
      "('we finish %d length', 162)\n",
      "('we finish %d length', 163)\n",
      "('we finish %d length', 164)\n",
      "('we finish %d length', 165)\n",
      "('we finish %d length', 166)\n",
      "('we finish %d length', 167)\n",
      "('we finish %d length', 168)\n",
      "('we finish %d length', 169)\n",
      "('we finish %d length', 170)\n",
      "('we finish %d length', 171)\n",
      "('we finish %d length', 172)\n",
      "('we finish %d length', 173)\n",
      "('we finish %d length', 174)\n",
      "('we finish %d length', 175)\n",
      "('we finish %d length', 176)\n",
      "('we finish %d length', 177)\n",
      "('we finish %d length', 178)\n",
      "('we finish %d length', 179)\n",
      "('we finish %d length', 180)\n",
      "('we finish %d length', 181)\n",
      "('we finish %d length', 182)\n",
      "('we finish %d length', 183)\n",
      "('we finish %d length', 184)\n",
      "('we finish %d length', 185)\n",
      "('we finish %d length', 186)\n",
      "('we finish %d length', 187)\n",
      "('we finish %d length', 188)\n",
      "('we finish %d length', 189)\n",
      "('we finish %d length', 190)\n",
      "('we finish %d length', 191)\n",
      "('we finish %d length', 192)\n",
      "('we finish %d length', 193)\n",
      "('we finish %d length', 194)\n",
      "('we finish %d length', 195)\n",
      "('we finish %d length', 196)\n",
      "('we finish %d length', 197)\n",
      "('we finish %d length', 198)\n",
      "('we finish %d length', 199)\n",
      "('we finish %d length', 200)\n",
      "('we finish %d length', 201)\n",
      "('we finish %d length', 202)\n",
      "('we finish %d length', 203)\n",
      "('we finish %d length', 204)\n",
      "('we finish %d length', 205)\n",
      "('we finish %d length', 206)\n",
      "('we finish %d length', 207)\n",
      "('we finish %d length', 208)\n",
      "('we finish %d length', 209)\n",
      "('we finish %d length', 210)\n",
      "('we finish %d length', 211)\n",
      "('we finish %d length', 212)\n",
      "('we finish %d length', 213)\n",
      "('we finish %d length', 214)\n",
      "('we finish %d length', 215)\n",
      "('we finish %d length', 216)\n",
      "('we finish %d length', 217)\n",
      "('we finish %d length', 218)\n",
      "('we finish %d length', 219)\n",
      "('we finish %d length', 220)\n",
      "('we finish %d length', 221)\n",
      "('we finish %d length', 222)\n",
      "('we finish %d length', 223)\n",
      "('we finish %d length', 224)\n",
      "('we finish %d length', 225)\n",
      "('we finish %d length', 226)\n",
      "('we finish %d length', 227)\n",
      "('we finish %d length', 228)\n",
      "('we finish %d length', 229)\n",
      "('we finish %d length', 230)\n",
      "('we finish %d length', 231)\n",
      "('we finish %d length', 232)\n",
      "('we finish %d length', 233)\n",
      "('we finish %d length', 234)\n",
      "('we finish %d length', 235)\n",
      "('we finish %d length', 236)\n",
      "('we finish %d length', 237)\n",
      "('we finish %d length', 238)\n",
      "('we finish %d length', 239)\n",
      "('we finish %d length', 240)\n",
      "('we finish %d length', 241)\n",
      "('we finish %d length', 242)\n",
      "('we finish %d length', 243)\n",
      "('we finish %d length', 244)\n",
      "('we finish %d length', 245)\n",
      "('we finish %d length', 246)\n",
      "('we finish %d length', 247)\n",
      "('we finish %d length', 248)\n",
      "('we finish %d length', 249)\n",
      "('we finish %d length', 250)\n",
      "('we finish %d length', 251)\n",
      "('we finish %d length', 252)\n",
      "('we finish %d length', 253)\n",
      "('we finish %d length', 254)\n",
      "('we finish %d length', 255)\n",
      "('we finish %d length', 256)\n",
      "('we finish %d length', 257)\n",
      "('we finish %d length', 258)\n",
      "('we finish %d length', 259)\n",
      "('we finish %d length', 260)\n"
     ]
    }
   ],
   "source": [
    "checker = ''\n",
    "for i in range(len(Q4m)):\n",
    "    send_list = []\n",
    "    for ci in range(0,256):\n",
    "        send_list.append((Q4m[:i+1],Q4iv,checker+int2byte(ci)))\n",
    "        if ci % 64==63:\n",
    "            z = encode_then_query_list(280678,send_list)\n",
    "            if 1 in z[1]:\n",
    "                print('we finish %d length',i)\n",
    "                checker = send_list[z[1].index(1)][2]\n",
    "                break\n",
    "            else:\n",
    "                send_list=[]"
   ]
  },
  {
   "cell_type": "code",
   "execution_count": 45,
   "metadata": {},
   "outputs": [
    {
     "data": {
      "text/plain": [
       "261"
      ]
     },
     "execution_count": 45,
     "metadata": {},
     "output_type": "execute_result"
    }
   ],
   "source": [
    "len(Q4m)"
   ]
  },
  {
   "cell_type": "code",
   "execution_count": 46,
   "metadata": {},
   "outputs": [
    {
     "data": {
      "text/plain": [
       "(True, [1])"
      ]
     },
     "execution_count": 46,
     "metadata": {},
     "output_type": "execute_result"
    }
   ],
   "source": [
    "encode_then_query_list(280678,[[Q4m,Q4iv,checker]])"
   ]
  },
  {
   "cell_type": "code",
   "execution_count": 47,
   "metadata": {},
   "outputs": [
    {
     "data": {
      "text/plain": [
       "'z57k2yHawWBN22TayP1gwICBRsKIBpj51djGFGn1WwWw7l+arveOB5HoM93e7jmInMl+aupWyjG2simuglFvGc+itSV5GyMI7W9/h5NBLPlBtKkPR1MakEhuBk6M5iLuP9i5cqQOIWpOD2lI0Q/qhCX1ybzAatj18tyesrrUVHJYwKyOR2KRXe+MSP79B/9Jfplik1etN4+VY5Nd9+uWcMpPGhfd3lQXfBsHtx5ZSso3ysFUVRpRl6hJyJiL1yQnzC1N9N9EqU84T/zgPldTmO7/M/9Oaa0oNZ7yNE1FSepDFSzqv5k+URAllKWgu3tJ9HBrnsWAhe5y8cCsvZFiLMjssU1E'"
      ]
     },
     "execution_count": 47,
     "metadata": {},
     "output_type": "execute_result"
    }
   ],
   "source": [
    "byte2base(checker)"
   ]
  },
  {
   "cell_type": "code",
   "execution_count": 48,
   "metadata": {},
   "outputs": [
    {
     "data": {
      "text/plain": [
       "348"
      ]
     },
     "execution_count": 48,
     "metadata": {},
     "output_type": "execute_result"
    }
   ],
   "source": [
    "len(byte2base(checker))"
   ]
  },
  {
   "cell_type": "code",
   "execution_count": 49,
   "metadata": {},
   "outputs": [
    {
     "data": {
      "text/plain": [
       "348"
      ]
     },
     "execution_count": 49,
     "metadata": {},
     "output_type": "execute_result"
    }
   ],
   "source": [
    "len(byte2base(Q4m))"
   ]
  },
  {
   "cell_type": "code",
   "execution_count": 50,
   "metadata": {},
   "outputs": [],
   "source": [
    "cipher = ''\n",
    "for s in checker:\n",
    "    cipher +=base64.b64encode(s)"
   ]
  },
  {
   "cell_type": "code",
   "execution_count": 51,
   "metadata": {},
   "outputs": [
    {
     "data": {
      "text/plain": [
       "'zw==ng==5A==2w==IQ==2g==wQ==YA==TQ==2w==ZA==2g==yA==/Q==YA==wA==gA==gQ==Rg==wg==iA==Bg==mA==+Q==1Q==2A==xg==FA==aQ==9Q==Ww==BQ==sA==7g==Xw==mg==rg==9w==jg==Bw==kQ==6A==Mw==3Q==3g==7g==OQ==iA==nA==yQ==fg==ag==6g==Vg==yg==MQ==tg==sg==KQ==rg==gg==UQ==bw==GQ==zw==og==tQ==JQ==eQ==Gw==Iw==CA==7Q==bw==fw==hw==kw==QQ==LA==+Q==QQ==tA==qQ==Dw==Rw==Uw==Gg==kA==SA==bg==Bg==Tg==jA==5g==Ig==7g==Pw==2A==uQ==cg==pA==Dg==IQ==ag==Tg==Dw==aQ==SA==0Q==Dw==6g==hA==JQ==9Q==yQ==vA==wA==ag==2A==9Q==8g==3A==ng==sg==ug==1A==VA==cg==WA==wA==rA==jg==Rw==Yg==kQ==XQ==7w==jA==SA==/g==/Q==Bw==/w==SQ==fg==mQ==Yg==kw==Vw==rQ==Nw==jw==lQ==Yw==kw==XQ==9w==6w==lg==cA==yg==Tw==Gg==Fw==3Q==3g==VA==Fw==fA==Gw==Bw==tw==Hg==WQ==Sg==yg==Nw==yg==wQ==VA==VQ==Gg==UQ==lw==qA==SQ==yA==mA==iw==1w==JA==Jw==zA==LQ==TQ==9A==3w==RA==qQ==Tw==OA==Tw==/A==4A==Pg==Vw==Uw==mA==7g==/w==Mw==/w==Tg==aQ==rQ==KA==NQ==ng==8g==NA==TQ==RQ==SQ==6g==Qw==FQ==LA==6g==vw==mQ==Pg==UQ==EA==JQ==lA==pQ==oA==uw==ew==SQ==9A==cA==aw==ng==xQ==gA==hQ==7g==cg==8Q==wA==rA==vQ==kQ==Yg==LA==yA==7A==sQ==TQ==RA=='"
      ]
     },
     "execution_count": 51,
     "metadata": {},
     "output_type": "execute_result"
    }
   ],
   "source": [
    "cipher"
   ]
  },
  {
   "cell_type": "markdown",
   "metadata": {},
   "source": [
    "# Breaking the Feistel Network over Small Domain"
   ]
  },
  {
   "cell_type": "code",
   "execution_count": 52,
   "metadata": {},
   "outputs": [],
   "source": [
    "pairs = read_data('./Asst3/281141/281141-parameters.txt',str)[20]"
   ]
  },
  {
   "cell_type": "code",
   "execution_count": 53,
   "metadata": {},
   "outputs": [],
   "source": [
    "pairs = pairs.split('=')[1].replace('[','').replace(']','').split(',')\n",
    "C5 = \"YQU2sQkz\""
   ]
  },
  {
   "cell_type": "code",
   "execution_count": 54,
   "metadata": {},
   "outputs": [],
   "source": [
    "def STRB(input_int,b):\n",
    "    int_to_bin = bin(input_int)[2:]\n",
    "    num_zeros = b - len(int_to_bin)\n",
    "    int_to_bin = ('0'* num_zeros) + int_to_bin\n",
    "    return int_to_bin"
   ]
  },
  {
   "cell_type": "code",
   "execution_count": 55,
   "metadata": {},
   "outputs": [],
   "source": [
    "def NUM2(input_str):\n",
    "    return int(input_str,2)"
   ]
  },
  {
   "cell_type": "code",
   "execution_count": 56,
   "metadata": {},
   "outputs": [],
   "source": [
    "def hex2int(hex_num):\n",
    "    int_num = int(hex_num,16) # use int base 16 to get the hex in int\n",
    "    return int_num"
   ]
  },
  {
   "cell_type": "code",
   "execution_count": 57,
   "metadata": {},
   "outputs": [],
   "source": [
    "def int2hex(int_num):\n",
    "    hex_res = hex(int_num)[2:]\n",
    "    return hex_res"
   ]
  },
  {
   "cell_type": "code",
   "execution_count": 58,
   "metadata": {},
   "outputs": [],
   "source": [
    "def str2int(str_input):\n",
    "    return hex2int(binascii.hexlify(base64.b64decode(str_input)))"
   ]
  },
  {
   "cell_type": "code",
   "execution_count": 59,
   "metadata": {},
   "outputs": [],
   "source": [
    "def int2str(int_input):\n",
    "    return base64.b64encode(binascii.unhexlify(int2hex(int_input)))"
   ]
  },
  {
   "cell_type": "code",
   "execution_count": 60,
   "metadata": {},
   "outputs": [],
   "source": [
    "def process(bits,i,sciper):\n",
    "    eight = STRB(i,8)\n",
    "    sciper_bit = STRB(sciper,20)\n",
    "    bits_bits = STRB(bits,100)\n",
    "    final_conc = eight + sciper_bit + bits_bits\n",
    "    return final_conc"
   ]
  },
  {
   "cell_type": "code",
   "execution_count": 61,
   "metadata": {},
   "outputs": [],
   "source": [
    "pairs = map(lambda x: x.replace(\"'\",'').replace('(','').replace(')',''),pairs)"
   ]
  },
  {
   "cell_type": "code",
   "execution_count": 62,
   "metadata": {},
   "outputs": [],
   "source": [
    "def expand_or_reduce(bits):\n",
    "    num_zeros = 48 - len(bits)\n",
    "    new_bits = '0'*num_zeros + bits\n",
    "    return new_bits"
   ]
  },
  {
   "cell_type": "code",
   "execution_count": 63,
   "metadata": {},
   "outputs": [],
   "source": [
    "C5_bit = str2int(C5)\n",
    "C5_bit = '0' + bin(C5_bit)[2:]\n",
    "C5_z   = NUM2(C5_bit [0:24]) \n",
    "C5_t   = NUM2(C5_bit [24:])"
   ]
  },
  {
   "cell_type": "code",
   "execution_count": 64,
   "metadata": {},
   "outputs": [],
   "source": [
    "def processText(text):\n",
    "    text_bits = expand_or_reduce(bin(str2int(text))[2:])\n",
    "    left = NUM2(text_bits[:24])\n",
    "    right =NUM2(text_bits[24:])\n",
    "    return left,right"
   ]
  },
  {
   "cell_type": "code",
   "execution_count": 65,
   "metadata": {},
   "outputs": [
    {
     "name": "stdout",
     "output_type": "stream",
     "text": [
      "70\n",
      "72\n",
      "116\n",
      "132\n",
      "138\n",
      "140\n",
      "148\n",
      "150\n",
      "152\n",
      "154\n",
      "170\n",
      "182\n",
      "190\n",
      "192\n",
      "202\n",
      "206\n",
      "214\n",
      "234\n",
      "240\n",
      "244\n",
      "250\n",
      "252\n",
      "256\n",
      "264\n",
      "266\n",
      "270\n",
      "276\n",
      "282\n",
      "286\n",
      "288\n",
      "292\n",
      "300\n",
      "302\n",
      "308\n",
      "314\n",
      "316\n",
      "328\n",
      "334\n",
      "342\n",
      "350\n",
      "352\n",
      "366\n",
      "368\n",
      "374\n",
      "378\n",
      "384\n",
      "386\n",
      "390\n",
      "398\n",
      "402\n",
      "406\n",
      "408\n",
      "418\n",
      "420\n",
      "422\n",
      "430\n",
      "432\n",
      "434\n",
      "440\n",
      "442\n",
      "448\n",
      "450\n",
      "452\n",
      "456\n",
      "458\n",
      "460\n",
      "462\n",
      "464\n",
      "468\n",
      "470\n",
      "474\n",
      "476\n",
      "478\n",
      "480\n",
      "482\n",
      "486\n",
      "488\n",
      "490\n",
      "492\n",
      "496\n",
      "500\n",
      "502\n",
      "508\n",
      "510\n",
      "512\n",
      "516\n",
      "520\n",
      "522\n",
      "524\n",
      "528\n",
      "530\n",
      "540\n",
      "542\n",
      "544\n",
      "546\n",
      "548\n",
      "556\n",
      "558\n",
      "560\n",
      "562\n",
      "568\n",
      "570\n",
      "574\n",
      "576\n",
      "578\n",
      "582\n",
      "584\n",
      "586\n",
      "588\n",
      "590\n",
      "592\n",
      "594\n",
      "598\n",
      "602\n",
      "604\n",
      "606\n",
      "608\n",
      "610\n",
      "612\n",
      "614\n",
      "616\n",
      "618\n",
      "620\n",
      "622\n",
      "626\n",
      "628\n",
      "634\n",
      "636\n",
      "638\n",
      "640\n",
      "642\n",
      "644\n",
      "646\n",
      "650\n",
      "652\n",
      "654\n",
      "658\n",
      "660\n",
      "662\n",
      "666\n",
      "668\n",
      "670\n",
      "674\n",
      "676\n",
      "680\n",
      "682\n",
      "684\n",
      "686\n",
      "688\n",
      "690\n",
      "692\n",
      "694\n",
      "696\n",
      "698\n",
      "700\n",
      "702\n",
      "704\n",
      "706\n",
      "708\n",
      "710\n",
      "712\n",
      "714\n",
      "716\n",
      "718\n",
      "722\n",
      "724\n",
      "726\n",
      "728\n",
      "730\n",
      "732\n",
      "734\n",
      "736\n",
      "738\n",
      "740\n",
      "742\n",
      "744\n",
      "746\n",
      "748\n",
      "752\n",
      "754\n",
      "758\n",
      "760\n",
      "762\n",
      "764\n",
      "766\n",
      "768\n",
      "770\n",
      "772\n",
      "774\n",
      "776\n",
      "778\n",
      "780\n",
      "782\n",
      "786\n",
      "788\n",
      "790\n",
      "792\n",
      "794\n",
      "796\n",
      "798\n"
     ]
    }
   ],
   "source": [
    "X= []\n",
    "Z= []\n",
    "Y= []\n",
    "T= []\n",
    "\n",
    "for i in range(0,len(pairs),2):\n",
    "    randx,randy = processText(pairs[i])\n",
    "    randz,randt = processText(pairs[i+1])\n",
    "    if randt  not in T:\n",
    "        T.append(randt)\n",
    "    else:\n",
    "        print i"
   ]
  },
  {
   "cell_type": "code",
   "execution_count": 66,
   "metadata": {},
   "outputs": [
    {
     "name": "stdout",
     "output_type": "stream",
     "text": [
      "Decryption X = 5097617 and Y = 3062386\n"
     ]
    }
   ],
   "source": [
    "f0,f1,f2 = dict(),dict(),dict()\n",
    "N = 2**24\n",
    "\n",
    "# randx,randy = processText(pairs[70])\n",
    "# randz,randt = processText(pairs[71])\n",
    "\n",
    "randx,randy = processText(pairs[70]) # a t repeated twice\n",
    "randz,randt = processText(pairs[71])\n",
    "# add them to dictionary\n",
    "f0[randy] = 0\n",
    "f2[randt] = mod(randz - randx,N)\n",
    "f1[randx] = mod(randt - randy,N)\n",
    "index_list = set()\n",
    "index_list.add(70)\n",
    "k = 0\n",
    "while True:\n",
    "    \n",
    "    for i in range(0,len(pairs),2):\n",
    "    \n",
    "        if i not in index_list:\n",
    "            plain_text_x,plain_text_y   = processText(pairs[i])\n",
    "            cipher_text_z,cipher_text_t = processText(pairs[i+1])\n",
    "            if (cipher_text_t in f2.keys()):\n",
    "                a = 2\n",
    "            else: \n",
    "                a = 0\n",
    "            if (plain_text_y in f0.keys()):\n",
    "                b = 1\n",
    "            else: \n",
    "                b = 0   \n",
    "            \n",
    "            if (a+b)==0:\n",
    "                continue\n",
    "            elif (a+b)==1: \n",
    "                \n",
    "                c = mod(f0[plain_text_y] + plain_text_x,N)\n",
    "                f1[c] = mod(cipher_text_t - plain_text_y,N)\n",
    "                f2[cipher_text_t] = mod(cipher_text_z - c,N)\n",
    "                \n",
    "            elif(a+b)==2:\n",
    "                c = mod(cipher_text_z - f2[cipher_text_t],N)\n",
    "                f0[plain_text_y] = mod(c-plain_text_x,N)\n",
    "                f1[c] = mod(cipher_text_t - plain_text_y,N)\n",
    "            else:\n",
    "                continue\n",
    "            \n",
    "            index_list.add(i)\n",
    "    k+=1\n",
    "    if C5_t in f2.keys():\n",
    "        c_5 = mod(C5_z - f2[C5_t],N)\n",
    "        if c_5 in f1.keys():\n",
    "            c5_y = mod(C5_t - f1[c_5],N)\n",
    "            if c5_y in f0.keys():\n",
    "                c5_x = mod(c_5 - f0[c5_y],N)\n",
    "                print(\"Decryption X = {} and Y = {}\".format(c5_x,c5_y))\n",
    "                break"
   ]
  },
  {
   "cell_type": "code",
   "execution_count": 67,
   "metadata": {},
   "outputs": [],
   "source": [
    "X_bin,Y_bin = bin(5097617)[2:],bin(3062386)[2:]"
   ]
  },
  {
   "cell_type": "code",
   "execution_count": 68,
   "metadata": {},
   "outputs": [],
   "source": [
    "result = X_bin + Y_bin"
   ]
  },
  {
   "cell_type": "code",
   "execution_count": 69,
   "metadata": {},
   "outputs": [
    {
     "data": {
      "text/plain": [
       "45"
      ]
     },
     "execution_count": 69,
     "metadata": {},
     "output_type": "execute_result"
    }
   ],
   "source": [
    "len(result)"
   ]
  },
  {
   "cell_type": "code",
   "execution_count": 70,
   "metadata": {},
   "outputs": [
    {
     "data": {
      "text/plain": [
       "'E3Ikbrpy'"
      ]
     },
     "execution_count": 70,
     "metadata": {},
     "output_type": "execute_result"
    }
   ],
   "source": [
    "byte2base(bin2byte('000' + result))"
   ]
  },
  {
   "cell_type": "code",
   "execution_count": null,
   "metadata": {},
   "outputs": [],
   "source": []
  },
  {
   "cell_type": "code",
   "execution_count": null,
   "metadata": {},
   "outputs": [],
   "source": []
  }
 ],
 "metadata": {
  "kernelspec": {
   "display_name": "Python 2",
   "language": "python",
   "name": "python2"
  },
  "language_info": {
   "codemirror_mode": {
    "name": "ipython",
    "version": 2
   },
   "file_extension": ".py",
   "mimetype": "text/x-python",
   "name": "python",
   "nbconvert_exporter": "python",
   "pygments_lexer": "ipython2",
   "version": "2.7.15"
  }
 },
 "nbformat": 4,
 "nbformat_minor": 2
}
