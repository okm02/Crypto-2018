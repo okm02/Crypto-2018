{
 "cells": [
  {
   "cell_type": "code",
   "execution_count": 1,
   "metadata": {},
   "outputs": [],
   "source": [
    "from sage.all import *\n",
    "import hashlib\n",
    "import binascii\n",
    "import string"
   ]
  },
  {
   "cell_type": "markdown",
   "metadata": {},
   "source": [
    "# Padding 1024"
   ]
  },
  {
   "cell_type": "code",
   "execution_count": 2,
   "metadata": {},
   "outputs": [],
   "source": [
    "def hex2int(hex_num):\n",
    "    int_num = int(hex_num,16) # use int base 16 to get the hex in int\n",
    "    return int_num"
   ]
  },
  {
   "cell_type": "code",
   "execution_count": 3,
   "metadata": {},
   "outputs": [],
   "source": [
    "def int2hex(int_num):\n",
    "    hex_res = hex(int_num)\n",
    "    hex_res = hex_res[2:] # remove 0x\n",
    "    if hex_res[-1] == 'L': # if the hex is really long remove L at the end\n",
    "        hex_res = hex_res[:-1]\n",
    "    hex_res = (\"0\" * (256 - len(hex_res))) + hex_res # pad with zeros\n",
    "    return hex_res"
   ]
  },
  {
   "cell_type": "code",
   "execution_count": 4,
   "metadata": {},
   "outputs": [],
   "source": [
    "def binary2hex(binary):\n",
    "    hex_int = int(binary,2) # change binary to int\n",
    "    hex_res = int2hex(hex_int) # change int to hex\n",
    "    return hex_res"
   ]
  },
  {
   "cell_type": "code",
   "execution_count": 5,
   "metadata": {},
   "outputs": [],
   "source": [
    "def hex2binary(Hex):\n",
    "    binary =   \"{0:8b}\".format(int(Hex,16)) # get binary\n",
    "    binary = (\"0\" * (1024 - len(binary))) + binary # pad with zeros\n",
    "    return binary"
   ]
  },
  {
   "cell_type": "code",
   "execution_count": 6,
   "metadata": {},
   "outputs": [],
   "source": [
    "prime_num =   \"000000000000000000000000000000000000000000000000000000000000\" \\\n",
    "            + \"000000000000000000000000000000000000000000000000000000000000\" \\\n",
    "            + \"000000000000000000000000000000000000000000000000000000000000\" \\\n",
    "            + \"00000000000001b45fa868e31d1a6d780829268ecd350e6d9280746ae6bd57155ce99dc3732b\""
   ]
  },
  {
   "cell_type": "code",
   "execution_count": 7,
   "metadata": {},
   "outputs": [],
   "source": [
    "generator  = \"0000000000000000000000000000000000000000000000000000000000\" \\\n",
    "                + \"00000000000000000000000000000000000000000000000000000000\" \\\n",
    "                + \"00000000000000000000000000000000000000000000000000000000\" \\\n",
    "                + \"000000000000000000000000a3a3df27552ae9e90d030f6e758cf3e56916f02ba8168700a802d79b294b30\""
   ]
  },
  {
   "cell_type": "code",
   "execution_count": 8,
   "metadata": {},
   "outputs": [],
   "source": [
    "prime_int,generator_int = hex2int(prime_num),hex2int(generator)"
   ]
  },
  {
   "cell_type": "code",
   "execution_count": 9,
   "metadata": {},
   "outputs": [
    {
     "data": {
      "text/plain": [
       "2 * 385502763231634118407816499780237158656437141097147737203794676128738818453"
      ]
     },
     "execution_count": 9,
     "metadata": {},
     "output_type": "execute_result"
    }
   ],
   "source": [
    "# compute the factor of the order of group Zp (order of p-1 and denote it as q)\n",
    "# then take long factor and check that g^q modp = 1 mod p\n",
    "# then this is the order of the group\n",
    "factor(prime_int-1)"
   ]
  },
  {
   "cell_type": "code",
   "execution_count": 10,
   "metadata": {},
   "outputs": [],
   "source": [
    "order = 385502763231634118407816499780237158656437141097147737203794676128738818453"
   ]
  },
  {
   "cell_type": "code",
   "execution_count": 11,
   "metadata": {},
   "outputs": [
    {
     "data": {
      "text/plain": [
       "1L"
      ]
     },
     "execution_count": 11,
     "metadata": {},
     "output_type": "execute_result"
    }
   ],
   "source": [
    "power_mod(generator_int,order,prime_int)"
   ]
  },
  {
   "cell_type": "code",
   "execution_count": 12,
   "metadata": {},
   "outputs": [
    {
     "data": {
      "text/plain": [
       "'00000000000000000000000000000000000000000000000000000000000000000000000000000000000000000000000000000000000000000000000000000000000000000000000000000000000000000000000000000000000000000000000000da2fd434718e8d36bc04149347669a8736c9403a35735eab8aae74cee1b995'"
      ]
     },
     "execution_count": 12,
     "metadata": {},
     "output_type": "execute_result"
    }
   ],
   "source": [
    "int2hex(order) # change the order from int to hex"
   ]
  },
  {
   "cell_type": "markdown",
   "metadata": {},
   "source": [
    "# CA-Vernam Cipher"
   ]
  },
  {
   "cell_type": "code",
   "execution_count": 13,
   "metadata": {},
   "outputs": [],
   "source": [
    "cipher_text = \"03617c16f06dfcaac578749e25a4231ed5bf0d20834a6cd0ebc3fbe6115eb3119b1b\" + \\\n",
    "              \"aa6fc0b343b62313b2dad312623ee9b49aa750d9167f4dcdb7d6d141a9615b8cbc7c\" + \\\n",
    "              \"0263b04319c93e921d77e07a6d0aaa4a97466e74caa867fcb32dd93aebc0221047cc\" + \\\n",
    "              \"fea07abadd35433b53b8a8f2328d225242c2f0f9d7ffae799c5b38419238df5059f7\" + \\\n",
    "              \"b440225bde988529529aa55b1a05b499466425544fa40f571d96ca44db8364542279\" + \\\n",
    "            \"15902586b6cd8590dcb8f544aa59b1f8f53b72e20377bbf1498a4f\""
   ]
  },
  {
   "cell_type": "code",
   "execution_count": 14,
   "metadata": {},
   "outputs": [],
   "source": [
    "def ca_vernam(k_start,m_start,cipher_msg):\n",
    "    \n",
    "    \"\"\"\n",
    "    a function to restore the encryption scheme described\n",
    "    \"\"\"\n",
    "    \n",
    "    ki,mi = k_start,m_start # strings storing the constructed message and key\n",
    "    printable = list(string.printable) # list of printable characters\n",
    "    t = gcd(len(cipher_msg),len(hashlib.sha256().digest()))\n",
    "    \n",
    "    \n",
    "    for i in range(1,len(cipher_msg)):\n",
    "        \n",
    "        encrypt = \"\"\n",
    "        \n",
    "        encrypt +=str(ki)+str(mi) # concatenate k then m (both are ascii strings)\n",
    "    \n",
    "        encrypt_hash = hashlib.sha256(encrypt).digest()[t-1] # apply hasing and get t bytes in our case 1 byte\n",
    "        \n",
    "        curr_m = chr(ord(encrypt_hash) ^ ord(cipher_msg[i])) # xor cipher character and current key \n",
    "        \n",
    "        if curr_m not in printable: # check if resulting message character is in printable\n",
    "            break\n",
    "        else:\n",
    "            ki+= (chr(ord(encrypt_hash))) # store key result in ki\n",
    "            mi+=curr_m # store result of message\n",
    "        \n",
    "    \n",
    "    if len(mi) == len(cipher_msg):\n",
    "        print(mi)"
   ]
  },
  {
   "cell_type": "code",
   "execution_count": 15,
   "metadata": {},
   "outputs": [
    {
     "name": "stdout",
     "output_type": "stream",
     "text": [
      "This is the secret message that you suppose to recover. Since you are reading this text, you have very high probability to get 1 point from this question. Anyway, your secret word is prefabricates.\n"
     ]
    }
   ],
   "source": [
    "cipher_byte = binascii.unhexlify(cipher_text) # change the cipher into bytes\n",
    "possible_message_char = string.printable\n",
    "iterator = 0\n",
    "\n",
    "for i in possible_message_char:\n",
    "    \n",
    "    # guess the first character of the encrypted message from the printable set of characters in integer\n",
    "    m0_guess_hex = ord(i) \n",
    "    # convert the first character of the ciphered text into integer\n",
    "    c0_int = ord(cipher_byte[0]) \n",
    "    k0_guess = chr(m0_guess_hex ^ c0_int) # xor both integers and convert to byte\n",
    "    ca_vernam(k0_guess,i,cipher_byte)\n",
    "    "
   ]
  },
  {
   "cell_type": "markdown",
   "metadata": {},
   "source": [
    "# Play fair cipher"
   ]
  },
  {
   "cell_type": "code",
   "execution_count": 16,
   "metadata": {},
   "outputs": [],
   "source": [
    "K3=\" ieyf\" + \"zkdrb\" + \"tcwup\" + \"sagxv\" + \"ohnml\"\n",
    "c3=\"gdz mofieddwiszsygszcnkaoi afohmsedemtanzs zubfgdeszcoyiwdukfuc hmet cnhpcyta enisftzmxdxhzoehwiz editghzsurzs zwdukfuszrfzsniykioghzegaetyixkyiaeafenzsnieziwurtc hoedificoscifmtitghytg i mzzsnieziwurtc hoea hyhvzys zsniftdyafmtozygydakg oz mtyihgfzohlyikxewhletmzzgfokcyikvacnh gisewesxhpciehec vhmfifmtiogkfsydfiohteublzvkfh cfis iogsyikvacnh gisewesxhpcisoz mxuyzghznoytnbrozrpszmhtecoyiublzvkfh cficoscfzhacin ozghzexgyxszxkyi mxuyzghznoytnbroz az ed\""
   ]
  },
  {
   "cell_type": "code",
   "execution_count": 17,
   "metadata": {},
   "outputs": [],
   "source": [
    "def convert_into_matrix(key):\n",
    "    \n",
    "    \"\"\"\n",
    "    store the key in a matrix\n",
    "    \"\"\"\n",
    "    \n",
    "    matrix = [['' for x in range(5)] for y in range(5)] \n",
    "    for i in range(0,len(key),5):\n",
    "        index = i\n",
    "        for j in range(1,len(matrix)+1): \n",
    "            matrix[int(index/5)][j-1] = key[index + j -1]   \n",
    "    return matrix\n",
    "    \n",
    "\n",
    "key_matrix = convert_into_matrix(K3)"
   ]
  },
  {
   "cell_type": "code",
   "execution_count": 18,
   "metadata": {},
   "outputs": [],
   "source": [
    "def search_matrix(matrix,letter):\n",
    "    \n",
    "    \"\"\"\n",
    "    a method to find the column and row of the current character\n",
    "    \"\"\"\n",
    "    \n",
    "    row=col=-1\n",
    "    for i in range(0,len(matrix)):\n",
    "        for j in range(0,len(matrix)):\n",
    "            if matrix[i][j] == letter:\n",
    "                row = i\n",
    "                col = j\n",
    "                break\n",
    "    return row,col\n",
    "    "
   ]
  },
  {
   "cell_type": "code",
   "execution_count": 19,
   "metadata": {},
   "outputs": [],
   "source": [
    "def decipher(matrix,cipher):\n",
    "    \n",
    "    deciphered_text = \"\"\n",
    "    indices = [i for i in range(0,len(cipher),2)]\n",
    "    # create a list having each pair of characters together\n",
    "    coupled_letters = list(map(lambda x : (cipher[x],cipher[x+1]),indices)) \n",
    "    \n",
    "    for chars in coupled_letters:\n",
    "    \n",
    "        row_first,col_first = search_matrix(matrix,chars[0]) # search for the first character in matrix\n",
    "        row_second,col_second = search_matrix(matrix,chars[1]) # search for the second character in matrix\n",
    "    \n",
    "        if col_first == col_second: # check if the columns of each two\n",
    "        \n",
    "            # if the letter is in first row go to the last row in matrix\n",
    "            # else move one row up\n",
    "            # the decryption is inverse of the encryption which goes one row down\n",
    "            \n",
    "            if row_first == 0: \n",
    "                deciphered_text+= matrix[4][col_first]\n",
    "            else:\n",
    "                deciphered_text+=matrix[row_first-1][col_first] \n",
    "                \n",
    "            if row_second == 0:\n",
    "                deciphered_text+= matrix[4][col_second]\n",
    "            else:\n",
    "                deciphered_text+=matrix[row_second-1][col_second]\n",
    "        \n",
    "        elif row_first == row_second:\n",
    "            \n",
    "            # if the letter is in first row go to the last row in matrix\n",
    "            # else move one column to the left\n",
    "            # the decryption is inverse of the encryption which goes one column to the right\n",
    "            \n",
    "            if  col_first == 0:\n",
    "                deciphered_text+= matrix[row_first][4]\n",
    "            else:\n",
    "                deciphered_text+=matrix[row_first][col_first-1]\n",
    "                \n",
    "            if  col_second == 0:\n",
    "                deciphered_text+= matrix[row_second][4]\n",
    "            else:\n",
    "                deciphered_text+=matrix[row_second][col_second-1]\n",
    "            \n",
    "        else:\n",
    "            \n",
    "            # if they don't have equal rows or columns then we draw a box\n",
    "            # the inverse is just going to the opposing edge in the box\n",
    "            \n",
    "            deciphered_text+= matrix[row_first][col_second]\n",
    "            deciphered_text+= matrix[row_second][col_first] \n",
    "    \n",
    "    print(deciphered_text)"
   ]
  },
  {
   "cell_type": "code",
   "execution_count": 20,
   "metadata": {},
   "outputs": [
    {
     "name": "stdout",
     "output_type": "stream",
     "text": [
      "we only need a text which is long enough to prevent the decryption without using a program since one can try to decrypt by their hand as we are giving the decryption key that you can use for the decryption similar to the previous exercises you have some random words like backhoes and gamut initially you had very low probability to have backhoes and gamut as your random words but now the probability that backhoes and gamut are your random words is one\n"
     ]
    }
   ],
   "source": [
    "decipher(key_matrix,c3)"
   ]
  },
  {
   "cell_type": "markdown",
   "metadata": {},
   "source": [
    "# The password-based key exchange"
   ]
  },
  {
   "cell_type": "code",
   "execution_count": 21,
   "metadata": {},
   "outputs": [],
   "source": [
    "k4 = \"002036e08f8d97419348aff3f0063a17a176947ec5e918fbe5c71ae8a103adaef138248a0d17cae7dbdfaeac50c1f7371b95ff387b039bdf72ceefbe11afe842f02ec8b6a94caa660c186262af8c5f9c6db995364f6832009b88b04504b0fd46c257d8dbbcd743fc40cc3a7cc158a0c89a2d9de4914bf007b5b81c493aeef735\"\n",
    "p4 = \"00406dc11f1b2e8326915fe7e00c742f42ed28fd8bd231f7cb8e35d142075b5de27049141a2f95cfb7bf5d58a183ee6e372bfe70f60737bee59ddf7c235fd085e05d916d529954cc1830c4c55f18bf38db732a6c9ed064013711608a0961fa8d84afb1b779ae87f8819874f982b14191345b3bc92297e00f6b70389275ddee6b\"\n",
    "g4 = \"0000000000000000000000000000000000000000000000000000000000000000000000000000000000000000000000000000000000000000000000000000000000000000000000000000000000000000000000000000000000000000000000000000000000000000000000000000000000000000000000000000000000000004\""
   ]
  },
  {
   "cell_type": "code",
   "execution_count": 22,
   "metadata": {},
   "outputs": [],
   "source": [
    "# change key from int to hex\n",
    "k4_int = hex2int(k4)\n",
    "p4_int = hex2int(p4)\n",
    "g4_int = hex2int(g4)"
   ]
  },
  {
   "cell_type": "code",
   "execution_count": 23,
   "metadata": {},
   "outputs": [],
   "source": [
    "F = factor(k4_int) # we know k is not prime thus we try to get it's factors"
   ]
  },
  {
   "cell_type": "code",
   "execution_count": 24,
   "metadata": {},
   "outputs": [
    {
     "name": "stdout",
     "output_type": "stream",
     "text": [
      "5887327 * 15009527909646127735779833383753163657191072195018350153153683877283378077882093352712387307992839052567008356935167230896458753759144551601560441652124546747284304144348462496799573082639707155688103866509348050181652494139022369435775070088297754768164063034545762604975031632833141269783559112683\n"
     ]
    }
   ],
   "source": [
    "print(F)"
   ]
  },
  {
   "cell_type": "code",
   "execution_count": 25,
   "metadata": {},
   "outputs": [],
   "source": [
    "# first factor of k\n",
    "r = 15009527909646127735779833383753163657191072195018350153153683877283378077882093352712387307992839052567008356935167230896458753759144551601560441652124546747284304144348462496799573082639707155688103866509348050181652494139022369435775070088297754768164063034545762604975031632833141269783559112683"
   ]
  },
  {
   "cell_type": "code",
   "execution_count": 26,
   "metadata": {},
   "outputs": [],
   "source": [
    "# second factor of k\n",
    "q = 5887327"
   ]
  },
  {
   "cell_type": "code",
   "execution_count": 27,
   "metadata": {},
   "outputs": [],
   "source": [
    "# send a fake message which bypasses the tests on the user side, hence we chose g^r mod p\n",
    "server_msg = power_mod(g4_int,r,p4_int)"
   ]
  },
  {
   "cell_type": "code",
   "execution_count": 28,
   "metadata": {},
   "outputs": [],
   "source": [
    "# change message to hex\n",
    "server_msg_hex = int2hex(server_msg)"
   ]
  },
  {
   "cell_type": "code",
   "execution_count": 29,
   "metadata": {},
   "outputs": [
    {
     "data": {
      "text/plain": [
       "'000cab2bd1d320cf3621a1dedc7bfc03a0589d3c1e4416c3b1597aa405d217522c0348e06aa9cc0576f3c8e9b5c9823b1890f702a88c7e7ba57f55a25aa2c454c117df770824ff6223ad999f5a755dd6fe79e77d9527ea2cd601ce3f481f6cefca9da4359dc7e4d2a48586e86d62527735ce1b641a0ea32e9fd8d9135e043d2e'"
      ]
     },
     "execution_count": 29,
     "metadata": {},
     "output_type": "execute_result"
    }
   ],
   "source": [
    "server_msg_hex"
   ]
  },
  {
   "cell_type": "code",
   "execution_count": 30,
   "metadata": {},
   "outputs": [],
   "source": [
    "# the result taken from the oracle which we interacted with\n",
    "result = \"0032ed6333574604e6267a841648b93b3abb533fc1e7161a4b45e78fdf4ff98bd679d1f4ccdbfa724a8a87efbee643399052091a47697a20c19d7bc2ec69411e747c7d6fb4d33f8188b8a4670e96bcc2180f1057978d6cd1feafba0e25399a2fdb61d9f78649275d400492f8087032bd96fd5cd643ba60a46e5069cd7f2a36e600000000000000000000000000000000000000000000000000000000000000000000000000000000000000000000000000000000000000000000000000000000000000000000000000000000000000000000000000000000000000000000000030fa5d91f75ee35f8b51a8eb59d8bfeae5207b44cd5ff18b07044ad700a4f79c\""
   ]
  },
  {
   "cell_type": "code",
   "execution_count": 31,
   "metadata": {},
   "outputs": [],
   "source": [
    "y_hex = result[0:256] # y is the first 256 characters\n",
    "ack_hex = result[256:] # ack is the second 256 characters"
   ]
  },
  {
   "cell_type": "code",
   "execution_count": 32,
   "metadata": {},
   "outputs": [],
   "source": [
    "x_ascii = binascii.unhexlify(server_msg_hex) # change the server message(X) into hex\n",
    "y_ascii = binascii.unhexlify(y_hex) # change the received Y into hex"
   ]
  },
  {
   "cell_type": "code",
   "execution_count": 33,
   "metadata": {},
   "outputs": [],
   "source": [
    "temp = power_mod(g4_int,r,p4_int) # compute g^r mod p"
   ]
  },
  {
   "cell_type": "code",
   "execution_count": 34,
   "metadata": {},
   "outputs": [
    {
     "name": "stdout",
     "output_type": "stream",
     "text": [
      "Current iteration = 100000\n",
      "Current iteration = 200000\n",
      "Current iteration = 300000\n",
      "Current iteration = 400000\n",
      "Current iteration = 500000\n",
      "Current iteration = 600000\n",
      "Current iteration = 700000\n",
      "Current iteration = 800000\n",
      "Current iteration = 900000\n",
      "Current iteration = 1000000\n",
      "Current iteration = 1100000\n",
      "Current iteration = 1200000\n",
      "Current iteration = 1300000\n",
      "Current iteration = 1400000\n",
      "Current iteration = 1500000\n",
      "Current iteration = 1600000\n",
      "Current iteration = 1700000\n",
      "Current iteration = 1800000\n",
      "Current iteration = 1900000\n",
      "Current iteration = 2000000\n",
      "Current iteration = 2100000\n"
     ]
    }
   ],
   "source": [
    "for possible_y in range(1,q): # since the message we sent is of order q we brute force all the values to guess y\n",
    "    \n",
    "    possible_key = power_mod(temp,possible_y,p4_int) # compute temp^y mod p\n",
    "    possible_key_ascii = binascii.unhexlify(int2hex(possible_key)) # convert the guessed key into ascii\n",
    "    ack_guess = x_ascii + y_ascii + possible_key_ascii # concatenate ascii values\n",
    "    hashed_ack =  hashlib.sha256(ack_guess).hexdigest() # apply hashing\n",
    "    hashed_ack_bin = hex2binary(hashed_ack) # change hashing into binaary\n",
    "    zeros = \"0\" * 768\n",
    "    padded_hash_ack = zeros + hashed_ack_bin\n",
    "    ack_hex_guess = binary2hex(padded_hash_ack) # change the padded 0^768||ACK(Xbin||Ybin||Kbin) into hex\n",
    "\n",
    "    if ack_hex_guess == ack_hex: # compare with received ack\n",
    "        guessed_y = possible_y\n",
    "        break\n",
    "    else:\n",
    "        if possible_y % 100000 == 0:\n",
    "            print(\"Current iteration = {}\".format(possible_y))"
   ]
  },
  {
   "cell_type": "code",
   "execution_count": 35,
   "metadata": {},
   "outputs": [],
   "source": [
    "guessed_y = 2179318\n",
    "Y_int = hex2int(y_hex)\n",
    "possible_key = power_mod(temp,guessed_y,p4_int)"
   ]
  },
  {
   "cell_type": "code",
   "execution_count": 36,
   "metadata": {},
   "outputs": [
    {
     "name": "stdout",
     "output_type": "stream",
     "text": [
      "Password found = 78654\n"
     ]
    }
   ],
   "source": [
    "subpower = power_mod(Y_int,r,p4_int)\n",
    "for possible_pwd in range(1,100000):\n",
    "    \n",
    "    inverse_pwd = inverse_mod(possible_pwd,q) # compute modulo inverse of possible pwd\n",
    "    guess_key = power_mod(subpower,inverse_pwd,p4_int) # try to guess the key by computing Y^(r*pwd-1)\n",
    "    if possible_key == guess_key: # if our guessed key is equal to the actual key\n",
    "        print(\"Password found = {}\".format(possible_pwd))\n",
    "        break"
   ]
  },
  {
   "cell_type": "code",
   "execution_count": 37,
   "metadata": {},
   "outputs": [
    {
     "data": {
      "text/plain": [
       "'000000000000000000000000000000000000000000000000000000000000000000000000000000000000000000000000000000000000000000000000000000000000000000000000000000000000000000000000000000000000000000000000000000000000000000000000000000000000000000000000000000000001333e'"
      ]
     },
     "execution_count": 37,
     "metadata": {},
     "output_type": "execute_result"
    }
   ],
   "source": [
    "pwd = 78654\n",
    "int2hex(pwd)"
   ]
  },
  {
   "cell_type": "markdown",
   "metadata": {},
   "source": [
    "# Badly Used ELGamal Cryptosystem"
   ]
  },
  {
   "cell_type": "code",
   "execution_count": 38,
   "metadata": {},
   "outputs": [],
   "source": [
    "# ssh2 parameters\n",
    "p = (2**1024)-(2**960)-1+(2**64)*floor(((2**894)*pi)+129093)\n",
    "q = Integer((p-1)/2)\n",
    "g = 2"
   ]
  },
  {
   "cell_type": "code",
   "execution_count": 39,
   "metadata": {},
   "outputs": [],
   "source": [
    "def load_ciphers():\n",
    "    \n",
    "    \"\"\"\n",
    "    a function that reads the ciphers and idx list and parses them\n",
    "    \"\"\"\n",
    "    \n",
    "    cipher_file = read_data('./Asst1/281141/281141-parameters.txt',str)\n",
    "    ciphers_text = cipher_file[14].split('=')[1:][0]\n",
    "    idx = cipher_file[15].split('=')[1][1:-1].split(',')\n",
    "    idx  = [ int(x) for x in idx]\n",
    "    cipher_list = ciphers_text.strip('[]').split(',')\n",
    "    return cipher_list,idx"
   ]
  },
  {
   "cell_type": "code",
   "execution_count": 40,
   "metadata": {},
   "outputs": [],
   "source": [
    "cipher_list,idx = load_ciphers() # load text results"
   ]
  },
  {
   "cell_type": "code",
   "execution_count": 41,
   "metadata": {},
   "outputs": [],
   "source": [
    "belong_to_zq =[] # a list to check if the cipher belongs to Zq or not\n",
    "for i in range(0,len(cipher_list),2): # iterate in two since elgamal ciphers consists of u,v pairs\n",
    "\n",
    "    u = Integer( cipher_list[i].strip().replace('(',''))\n",
    "    v = Integer(cipher_list[i+1].strip().replace(')',''))\n",
    "    check_in_zq = power_mod(v,q,p) # check if message belongs to message space so in g with order q\n",
    "    if check_in_zq == Integer(1): # if equal to one then it is otherwise not\n",
    "        belong_to_zq.append(1)\n",
    "    else:\n",
    "        belong_to_zq.append(0)"
   ]
  },
  {
   "cell_type": "code",
   "execution_count": 42,
   "metadata": {},
   "outputs": [
    {
     "name": "stdout",
     "output_type": "stream",
     "text": [
      "0\n",
      "0\n",
      "1\n",
      "0\n",
      "1\n"
     ]
    }
   ],
   "source": [
    "# get results for ciphers belonging to idx\n",
    "for ids in idx:\n",
    "    print(belong_to_zq[ids])"
   ]
  },
  {
   "cell_type": "code",
   "execution_count": 43,
   "metadata": {},
   "outputs": [],
   "source": [
    "# we know that the encoding 0 is equal to space , so we try to group the characters into\n",
    "# substrings which represent a pattern of the corresponding to that word\n",
    "word_pattern = [] \n",
    "temp_pattern = \"\"\n",
    "itr = 0\n",
    "for i in range(0,len(cipher_list),2):\n",
    "    v = cipher_list[i+1].strip().replace(')','')\n",
    "    if v != '0':\n",
    "        temp_pattern+= str(belong_to_zq[itr])\n",
    "    else:\n",
    "        word_pattern.append(temp_pattern)\n",
    "        temp_pattern = \"\"\n",
    "    itr+=1\n",
    "word_pattern.append(temp_pattern)"
   ]
  },
  {
   "cell_type": "code",
   "execution_count": 44,
   "metadata": {},
   "outputs": [],
   "source": [
    "valid_letters = []\n",
    "# in this function we check which letters belong to the message space\n",
    "for i in range(1,27):\n",
    "    \n",
    "    eq = power_mod(i,q,p)\n",
    "    if eq == Integer(1):\n",
    "        valid_letters.append(chr(i+96))"
   ]
  },
  {
   "cell_type": "code",
   "execution_count": 45,
   "metadata": {},
   "outputs": [],
   "source": [
    "word_dictionary = read_data('./Asst1/dictionary.txt',str) # load dictionary"
   ]
  },
  {
   "cell_type": "code",
   "execution_count": 46,
   "metadata": {},
   "outputs": [
    {
     "name": "stdout",
     "output_type": "stream",
     "text": [
      "your\n",
      "secret\n",
      "message\n",
      "is\n",
      "emanated\n"
     ]
    }
   ],
   "source": [
    "for pattern in word_pattern: # iterate over patterns\n",
    "    for word in word_dictionary: # iterate over dictionary\n",
    "        if len(word) == len(pattern):\n",
    "                \n",
    "                pattern_in_binary = \"\"\n",
    "                # change the word into a patter of belongs and doesnt belong to the message space\n",
    "                for char in word:\n",
    "                    if char in valid_letters:\n",
    "                        pattern_in_binary+=\"1\"\n",
    "                    else:\n",
    "                        pattern_in_binary+=\"0\"\n",
    "                \n",
    "                if pattern_in_binary == pattern: # compare patterns if equal we found the encrypted message\n",
    "                    print(word)"
   ]
  },
  {
   "cell_type": "code",
   "execution_count": null,
   "metadata": {},
   "outputs": [],
   "source": []
  }
 ],
 "metadata": {
  "kernelspec": {
   "display_name": "Python 2",
   "language": "python",
   "name": "python2"
  },
  "language_info": {
   "codemirror_mode": {
    "name": "ipython",
    "version": 2
   },
   "file_extension": ".py",
   "mimetype": "text/x-python",
   "name": "python",
   "nbconvert_exporter": "python",
   "pygments_lexer": "ipython2",
   "version": "2.7.15"
  }
 },
 "nbformat": 4,
 "nbformat_minor": 2
}
